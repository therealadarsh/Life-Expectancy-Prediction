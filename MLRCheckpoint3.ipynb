{
 "cells": [
  {
   "cell_type": "code",
   "execution_count": 1,
   "metadata": {},
   "outputs": [],
   "source": [
    "import pandas as pd"
   ]
  },
  {
   "cell_type": "code",
   "execution_count": 2,
   "metadata": {},
   "outputs": [],
   "source": [
    "df = pd.read_csv('/Users/brandonvidro/Downloads/project-iste-780-bad-project1/LassoRegression/LassoForwardSelectionDataSetForModelling.csv')"
   ]
  },
  {
   "cell_type": "code",
   "execution_count": 3,
   "metadata": {},
   "outputs": [
    {
     "data": {
      "text/html": [
       "<div>\n",
       "<style scoped>\n",
       "    .dataframe tbody tr th:only-of-type {\n",
       "        vertical-align: middle;\n",
       "    }\n",
       "\n",
       "    .dataframe tbody tr th {\n",
       "        vertical-align: top;\n",
       "    }\n",
       "\n",
       "    .dataframe thead th {\n",
       "        text-align: right;\n",
       "    }\n",
       "</style>\n",
       "<table border=\"1\" class=\"dataframe\">\n",
       "  <thead>\n",
       "    <tr style=\"text-align: right;\">\n",
       "      <th></th>\n",
       "      <th>Adolescent fertility rate (births per 1,000 women ages 15-19)</th>\n",
       "      <th>Cereal yield (kg per hectare)</th>\n",
       "      <th>Urban population (% of total)</th>\n",
       "      <th>GDP per capita (current US$)</th>\n",
       "      <th>Merchandise exports by the reporting economy, residual (% of total merchandise exports)</th>\n",
       "      <th>Permanent cropland (% of land area)</th>\n",
       "      <th>Merchandise imports by the reporting economy, residual (% of total merchandise imports)</th>\n",
       "      <th>Population density (people per sq. km of land area)</th>\n",
       "      <th>Agricultural land (% of land area)</th>\n",
       "      <th>Arable land (hectares per person)</th>\n",
       "      <th>Arable land (% of land area)</th>\n",
       "      <th>CO2 emissions from solid fuel consumption (kt)</th>\n",
       "      <th>Merchandise trade (% of GDP)</th>\n",
       "      <th>LE</th>\n",
       "      <th>Year</th>\n",
       "      <th>CountryName</th>\n",
       "      <th>MeanLifeExpetancyOverall</th>\n",
       "      <th>MeanLifeExpetancyForYear</th>\n",
       "      <th>AboveAverageLifeExpectancyOverall</th>\n",
       "      <th>AboveAverageLifeExpectancyByYear</th>\n",
       "    </tr>\n",
       "  </thead>\n",
       "  <tbody>\n",
       "    <tr>\n",
       "      <th>0</th>\n",
       "      <td>145.3210</td>\n",
       "      <td>1082.838</td>\n",
       "      <td>9.426</td>\n",
       "      <td>82.231395</td>\n",
       "      <td>44.252874</td>\n",
       "      <td>0.111816</td>\n",
       "      <td>57.122507</td>\n",
       "      <td>14.901579</td>\n",
       "      <td>58.010906</td>\n",
       "      <td>0.801756</td>\n",
       "      <td>11.947431</td>\n",
       "      <td>300.694</td>\n",
       "      <td>23.499999</td>\n",
       "      <td>34.092878</td>\n",
       "      <td>1964</td>\n",
       "      <td>Afghanistan</td>\n",
       "      <td>64.193563</td>\n",
       "      <td>55.937218</td>\n",
       "      <td>False</td>\n",
       "      <td>False</td>\n",
       "    </tr>\n",
       "    <tr>\n",
       "      <th>1</th>\n",
       "      <td>46.6478</td>\n",
       "      <td>1323.715</td>\n",
       "      <td>83.110</td>\n",
       "      <td>2127.165739</td>\n",
       "      <td>9.663118</td>\n",
       "      <td>0.021999</td>\n",
       "      <td>2.713909</td>\n",
       "      <td>1.453601</td>\n",
       "      <td>61.050597</td>\n",
       "      <td>3.168264</td>\n",
       "      <td>4.605392</td>\n",
       "      <td>67190.441</td>\n",
       "      <td>26.822615</td>\n",
       "      <td>70.880976</td>\n",
       "      <td>1964</td>\n",
       "      <td>Australia</td>\n",
       "      <td>64.193563</td>\n",
       "      <td>55.937218</td>\n",
       "      <td>True</td>\n",
       "      <td>True</td>\n",
       "    </tr>\n",
       "    <tr>\n",
       "      <th>2</th>\n",
       "      <td>56.3066</td>\n",
       "      <td>2621.710</td>\n",
       "      <td>64.962</td>\n",
       "      <td>1269.412583</td>\n",
       "      <td>11.543540</td>\n",
       "      <td>0.811334</td>\n",
       "      <td>8.977475</td>\n",
       "      <td>87.476399</td>\n",
       "      <td>48.244127</td>\n",
       "      <td>0.229381</td>\n",
       "      <td>20.065391</td>\n",
       "      <td>18951.056</td>\n",
       "      <td>36.085123</td>\n",
       "      <td>69.921951</td>\n",
       "      <td>1964</td>\n",
       "      <td>Austria</td>\n",
       "      <td>64.193563</td>\n",
       "      <td>55.937218</td>\n",
       "      <td>True</td>\n",
       "      <td>True</td>\n",
       "    </tr>\n",
       "    <tr>\n",
       "      <th>3</th>\n",
       "      <td>88.5072</td>\n",
       "      <td>529.302</td>\n",
       "      <td>11.801</td>\n",
       "      <td>104.323759</td>\n",
       "      <td>1.526718</td>\n",
       "      <td>0.709471</td>\n",
       "      <td>9.385113</td>\n",
       "      <td>22.936875</td>\n",
       "      <td>13.320326</td>\n",
       "      <td>0.378911</td>\n",
       "      <td>8.691025</td>\n",
       "      <td>0.000</td>\n",
       "      <td>16.410000</td>\n",
       "      <td>39.136854</td>\n",
       "      <td>1964</td>\n",
       "      <td>Benin</td>\n",
       "      <td>64.193563</td>\n",
       "      <td>55.937218</td>\n",
       "      <td>False</td>\n",
       "      <td>False</td>\n",
       "    </tr>\n",
       "    <tr>\n",
       "      <th>4</th>\n",
       "      <td>100.5586</td>\n",
       "      <td>795.060</td>\n",
       "      <td>37.957</td>\n",
       "      <td>203.601251</td>\n",
       "      <td>2.370500</td>\n",
       "      <td>0.126465</td>\n",
       "      <td>3.692906</td>\n",
       "      <td>3.683980</td>\n",
       "      <td>27.580541</td>\n",
       "      <td>0.336018</td>\n",
       "      <td>1.237884</td>\n",
       "      <td>3.667</td>\n",
       "      <td>24.452858</td>\n",
       "      <td>43.430220</td>\n",
       "      <td>1964</td>\n",
       "      <td>Bolivia</td>\n",
       "      <td>64.193563</td>\n",
       "      <td>55.937218</td>\n",
       "      <td>False</td>\n",
       "      <td>False</td>\n",
       "    </tr>\n",
       "  </tbody>\n",
       "</table>\n",
       "</div>"
      ],
      "text/plain": [
       "   Adolescent fertility rate (births per 1,000 women ages 15-19)  \\\n",
       "0                                           145.3210               \n",
       "1                                            46.6478               \n",
       "2                                            56.3066               \n",
       "3                                            88.5072               \n",
       "4                                           100.5586               \n",
       "\n",
       "   Cereal yield (kg per hectare)  Urban population (% of total)  \\\n",
       "0                       1082.838                          9.426   \n",
       "1                       1323.715                         83.110   \n",
       "2                       2621.710                         64.962   \n",
       "3                        529.302                         11.801   \n",
       "4                        795.060                         37.957   \n",
       "\n",
       "   GDP per capita (current US$)  \\\n",
       "0                     82.231395   \n",
       "1                   2127.165739   \n",
       "2                   1269.412583   \n",
       "3                    104.323759   \n",
       "4                    203.601251   \n",
       "\n",
       "   Merchandise exports by the reporting economy, residual (% of total merchandise exports)  \\\n",
       "0                                          44.252874                                         \n",
       "1                                           9.663118                                         \n",
       "2                                          11.543540                                         \n",
       "3                                           1.526718                                         \n",
       "4                                           2.370500                                         \n",
       "\n",
       "   Permanent cropland (% of land area)  \\\n",
       "0                             0.111816   \n",
       "1                             0.021999   \n",
       "2                             0.811334   \n",
       "3                             0.709471   \n",
       "4                             0.126465   \n",
       "\n",
       "   Merchandise imports by the reporting economy, residual (% of total merchandise imports)  \\\n",
       "0                                          57.122507                                         \n",
       "1                                           2.713909                                         \n",
       "2                                           8.977475                                         \n",
       "3                                           9.385113                                         \n",
       "4                                           3.692906                                         \n",
       "\n",
       "   Population density (people per sq. km of land area)  \\\n",
       "0                                          14.901579     \n",
       "1                                           1.453601     \n",
       "2                                          87.476399     \n",
       "3                                          22.936875     \n",
       "4                                           3.683980     \n",
       "\n",
       "   Agricultural land (% of land area)  Arable land (hectares per person)  \\\n",
       "0                           58.010906                           0.801756   \n",
       "1                           61.050597                           3.168264   \n",
       "2                           48.244127                           0.229381   \n",
       "3                           13.320326                           0.378911   \n",
       "4                           27.580541                           0.336018   \n",
       "\n",
       "   Arable land (% of land area)  \\\n",
       "0                     11.947431   \n",
       "1                      4.605392   \n",
       "2                     20.065391   \n",
       "3                      8.691025   \n",
       "4                      1.237884   \n",
       "\n",
       "   CO2 emissions from solid fuel consumption (kt)  \\\n",
       "0                                         300.694   \n",
       "1                                       67190.441   \n",
       "2                                       18951.056   \n",
       "3                                           0.000   \n",
       "4                                           3.667   \n",
       "\n",
       "   Merchandise trade (% of GDP)         LE  Year  CountryName  \\\n",
       "0                     23.499999  34.092878  1964  Afghanistan   \n",
       "1                     26.822615  70.880976  1964    Australia   \n",
       "2                     36.085123  69.921951  1964      Austria   \n",
       "3                     16.410000  39.136854  1964        Benin   \n",
       "4                     24.452858  43.430220  1964      Bolivia   \n",
       "\n",
       "   MeanLifeExpetancyOverall  MeanLifeExpetancyForYear  \\\n",
       "0                 64.193563                 55.937218   \n",
       "1                 64.193563                 55.937218   \n",
       "2                 64.193563                 55.937218   \n",
       "3                 64.193563                 55.937218   \n",
       "4                 64.193563                 55.937218   \n",
       "\n",
       "   AboveAverageLifeExpectancyOverall  AboveAverageLifeExpectancyByYear  \n",
       "0                              False                             False  \n",
       "1                               True                              True  \n",
       "2                               True                              True  \n",
       "3                              False                             False  \n",
       "4                              False                             False  "
      ]
     },
     "execution_count": 3,
     "metadata": {},
     "output_type": "execute_result"
    }
   ],
   "source": [
    "df.head()"
   ]
  },
  {
   "cell_type": "code",
   "execution_count": 6,
   "metadata": {},
   "outputs": [],
   "source": [
    "X = df[['Adolescent fertility rate (births per 1,000 women ages 15-19)', 'Cereal yield (kg per hectare)', 'Urban population (% of total)', 'GDP per capita (current US$)', 'Merchandise exports by the reporting economy, residual (% of total merchandise exports)', 'Permanent cropland (% of land area)', 'Merchandise imports by the reporting economy, residual (% of total merchandise imports)', 'Population density (people per sq. km of land area)', 'Agricultural land (% of land area)', 'Arable land (hectares per person)', 'Arable land (% of land area)', 'CO2 emissions from solid fuel consumption (kt)', 'Merchandise trade (% of GDP)']]"
   ]
  },
  {
   "cell_type": "code",
   "execution_count": 7,
   "metadata": {},
   "outputs": [],
   "source": [
    "y = df['LE']"
   ]
  },
  {
   "cell_type": "code",
   "execution_count": 8,
   "metadata": {},
   "outputs": [],
   "source": [
    "from sklearn import linear_model"
   ]
  },
  {
   "cell_type": "code",
   "execution_count": 9,
   "metadata": {},
   "outputs": [],
   "source": [
    "regr = linear_model.LinearRegression()"
   ]
  },
  {
   "cell_type": "code",
   "execution_count": 13,
   "metadata": {},
   "outputs": [
    {
     "data": {
      "text/plain": [
       "LinearRegression()"
      ]
     },
     "execution_count": 13,
     "metadata": {},
     "output_type": "execute_result"
    }
   ],
   "source": [
    "regr.fit(X, y)"
   ]
  },
  {
   "cell_type": "code",
   "execution_count": 14,
   "metadata": {},
   "outputs": [
    {
     "name": "stdout",
     "output_type": "stream",
     "text": [
      "Intercept \n",
      " 62.77250932527215\n"
     ]
    }
   ],
   "source": [
    "print('Intercept \\n', regr.intercept_)"
   ]
  },
  {
   "cell_type": "code",
   "execution_count": 15,
   "metadata": {},
   "outputs": [
    {
     "name": "stdout",
     "output_type": "stream",
     "text": [
      "Coefficients: \n",
      " [-9.90593930e-02  2.61648541e-04  1.79288296e-01  5.34883669e-05\n",
      " -4.92614094e-02  1.47942139e-01 -2.92345525e-02  4.45080406e-03\n",
      " -1.53022812e-02 -7.11532427e-01 -2.56724324e-02  3.59510291e-07\n",
      "  7.74449666e-03]\n"
     ]
    }
   ],
   "source": [
    "print('Coefficients: \\n', regr.coef_)"
   ]
  },
  {
   "cell_type": "code",
   "execution_count": 16,
   "metadata": {},
   "outputs": [],
   "source": [
    "import statsmodels.api as sm"
   ]
  },
  {
   "cell_type": "code",
   "execution_count": 17,
   "metadata": {},
   "outputs": [],
   "source": [
    "X = sm.add_constant(X)"
   ]
  },
  {
   "cell_type": "code",
   "execution_count": 18,
   "metadata": {},
   "outputs": [],
   "source": [
    "model = sm.OLS(y, X).fit()"
   ]
  },
  {
   "cell_type": "code",
   "execution_count": 19,
   "metadata": {},
   "outputs": [],
   "source": [
    "predictions = model.predict(X)"
   ]
  },
  {
   "cell_type": "code",
   "execution_count": 20,
   "metadata": {},
   "outputs": [],
   "source": [
    "print_model = model.summary()"
   ]
  },
  {
   "cell_type": "code",
   "execution_count": 21,
   "metadata": {},
   "outputs": [
    {
     "name": "stdout",
     "output_type": "stream",
     "text": [
      "                            OLS Regression Results                            \n",
      "==============================================================================\n",
      "Dep. Variable:                     LE   R-squared:                       0.791\n",
      "Model:                            OLS   Adj. R-squared:                  0.791\n",
      "Method:                 Least Squares   F-statistic:                     1818.\n",
      "Date:                Thu, 04 Nov 2021   Prob (F-statistic):               0.00\n",
      "Time:                        14:01:37   Log-Likelihood:                -18858.\n",
      "No. Observations:                6259   AIC:                         3.774e+04\n",
      "Df Residuals:                    6245   BIC:                         3.784e+04\n",
      "Df Model:                          13                                         \n",
      "Covariance Type:            nonrobust                                         \n",
      "===========================================================================================================================================================\n",
      "                                                                                              coef    std err          t      P>|t|      [0.025      0.975]\n",
      "-----------------------------------------------------------------------------------------------------------------------------------------------------------\n",
      "const                                                                                      62.7725      0.350    179.353      0.000      62.086      63.459\n",
      "Adolescent fertility rate (births per 1,000 women ages 15-19)                              -0.0991      0.002    -62.427      0.000      -0.102      -0.096\n",
      "Cereal yield (kg per hectare)                                                               0.0003   2.98e-05      8.768      0.000       0.000       0.000\n",
      "Urban population (% of total)                                                               0.1793      0.004     46.444      0.000       0.172       0.187\n",
      "GDP per capita (current US$)                                                             5.349e-05   7.75e-06      6.902      0.000    3.83e-05    6.87e-05\n",
      "Merchandise exports by the reporting economy, residual (% of total merchandise exports)    -0.0493      0.006     -8.507      0.000      -0.061      -0.038\n",
      "Permanent cropland (% of land area)                                                         0.1479      0.015      9.708      0.000       0.118       0.178\n",
      "Merchandise imports by the reporting economy, residual (% of total merchandise imports)    -0.0292      0.007     -3.899      0.000      -0.044      -0.015\n",
      "Population density (people per sq. km of land area)                                         0.0045      0.001      8.779      0.000       0.003       0.005\n",
      "Agricultural land (% of land area)                                                         -0.0153      0.004     -3.900      0.000      -0.023      -0.008\n",
      "Arable land (hectares per person)                                                          -0.7115      0.193     -3.685      0.000      -1.090      -0.333\n",
      "Arable land (% of land area)                                                               -0.0257      0.007     -3.838      0.000      -0.039      -0.013\n",
      "CO2 emissions from solid fuel consumption (kt)                                           3.595e-07   7.61e-08      4.722      0.000     2.1e-07    5.09e-07\n",
      "Merchandise trade (% of GDP)                                                                0.0077      0.002      5.041      0.000       0.005       0.011\n",
      "==============================================================================\n",
      "Omnibus:                      457.350   Durbin-Watson:                   1.987\n",
      "Prob(Omnibus):                  0.000   Jarque-Bera (JB):             1065.053\n",
      "Skew:                          -0.455   Prob(JB):                    5.33e-232\n",
      "Kurtosis:                       4.805   Cond. No.                     4.96e+06\n",
      "==============================================================================\n",
      "\n",
      "Notes:\n",
      "[1] Standard Errors assume that the covariance matrix of the errors is correctly specified.\n",
      "[2] The condition number is large, 4.96e+06. This might indicate that there are\n",
      "strong multicollinearity or other numerical problems.\n"
     ]
    }
   ],
   "source": [
    "print(print_model)"
   ]
  },
  {
   "cell_type": "code",
   "execution_count": null,
   "metadata": {},
   "outputs": [],
   "source": []
  }
 ],
 "metadata": {
  "kernelspec": {
   "display_name": "Python 3",
   "language": "python",
   "name": "python3"
  },
  "language_info": {
   "codemirror_mode": {
    "name": "ipython",
    "version": 3
   },
   "file_extension": ".py",
   "mimetype": "text/x-python",
   "name": "python",
   "nbconvert_exporter": "python",
   "pygments_lexer": "ipython3",
   "version": "3.8.8"
  }
 },
 "nbformat": 4,
 "nbformat_minor": 4
}
