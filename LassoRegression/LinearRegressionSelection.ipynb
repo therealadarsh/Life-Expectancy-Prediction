{
 "cells": [
  {
   "cell_type": "markdown",
   "metadata": {},
   "source": [
    "## Models two feature sets via linear regression\n",
    "We have two feature sets that we need to decide on which ones to use for our modelling.\n",
    "\n",
    "Use linear regression to determine which set performs better in prediction accuracy so that we can make suggest action to be taken based on inference"
   ]
  },
  {
   "cell_type": "code",
   "execution_count": 1,
   "metadata": {},
   "outputs": [],
   "source": [
    "import numpy as np\n",
    "import pandas as pd\n",
    "import matplotlib.pyplot as plt\n",
    "from sklearn.model_selection import train_test_split\n",
    "from sklearn.linear_model import LinearRegression\n",
    "from sklearn.metrics import roc_curve, auc\n",
    "\n",
    "from sklearn.metrics import confusion_matrix"
   ]
  },
  {
   "cell_type": "code",
   "execution_count": 2,
   "metadata": {},
   "outputs": [],
   "source": [
    "df = pd.read_csv('LassoForwardSelectionDataSetForModelling.csv')\n",
    "lassoFeatures = pd.read_csv('top10predictorsLasso_cv.csv')['0'].tolist()\n",
    "forwardSelectionFeatures = pd.read_csv('ForwardSelectionVia5FoldCV.csv')[\"0\"].tolist()"
   ]
  },
  {
   "cell_type": "code",
   "execution_count": 3,
   "metadata": {},
   "outputs": [],
   "source": [
    "y_qualitative = df['AboveAverageLifeExpectancyByYear']\n",
    "y_quantitative = df[\"Life expectancy at birth, total (years)\"]"
   ]
  },
  {
   "cell_type": "code",
   "execution_count": 4,
   "metadata": {},
   "outputs": [],
   "source": [
    "xLasso = df[np.intersect1d(df.columns, lassoFeatures)]\n",
    "xFowardSelection = df[np.intersect1d(df.columns, forwardSelectionFeatures)]"
   ]
  },
  {
   "cell_type": "code",
   "execution_count": 5,
   "metadata": {},
   "outputs": [
    {
     "name": "stdout",
     "output_type": "stream",
     "text": [
      "[0.73038043 0.76958794 0.54344284 0.77335337 0.77913073]\n",
      "cv_scores mean:0.7191790631027105\n"
     ]
    }
   ],
   "source": [
    "# Perform cross validation for Lasso features \n",
    "from sklearn.model_selection import cross_val_score\n",
    "# Fit the model\n",
    "model = LinearRegression()\n",
    "cv_scores = cross_val_score(model, xLasso, y_quantitative, cv=5)\n",
    "print(cv_scores)\n",
    "print('cv_scores mean:{}'.format(np.mean(cv_scores)))"
   ]
  },
  {
   "cell_type": "code",
   "execution_count": 6,
   "metadata": {},
   "outputs": [
    {
     "name": "stdout",
     "output_type": "stream",
     "text": [
      "[0.73460588 0.76198371 0.73277132 0.76598687 0.78115248]\n",
      "cv_scores mean:0.7553000492428348\n"
     ]
    }
   ],
   "source": [
    "# Perform cross validation for Forward Selection features \n",
    "from sklearn.model_selection import cross_val_score\n",
    "# Fit the model\n",
    "model = LinearRegression()\n",
    "cv_scores = cross_val_score(model, xFowardSelection, y_quantitative, cv=5)\n",
    "print(cv_scores)\n",
    "print('cv_scores mean:{}'.format(np.mean(cv_scores)))"
   ]
  },
  {
   "cell_type": "code",
   "execution_count": 7,
   "metadata": {},
   "outputs": [
    {
     "data": {
      "text/plain": [
       "['Adolescent fertility rate (births per 1,000 women ages 15-19)',\n",
       " 'Cereal yield (kg per hectare)',\n",
       " 'Urban population (% of total)',\n",
       " 'GDP per capita (current US$)',\n",
       " 'Merchandise exports by the reporting economy, residual (% of total merchandise exports)',\n",
       " 'Permanent cropland (% of land area)',\n",
       " 'Merchandise imports by the reporting economy, residual (% of total merchandise imports)',\n",
       " 'Population density (people per sq. km of land area)',\n",
       " 'Agricultural land (% of land area)',\n",
       " 'Arable land (hectares per person)']"
      ]
     },
     "execution_count": 7,
     "metadata": {},
     "output_type": "execute_result"
    }
   ],
   "source": [
    "lassoFeatures"
   ]
  },
  {
   "cell_type": "code",
   "execution_count": 8,
   "metadata": {},
   "outputs": [
    {
     "data": {
      "text/plain": [
       "['Adolescent fertility rate (births per 1,000 women ages 15-19)',\n",
       " 'Arable land (% of land area)',\n",
       " 'Arable land (hectares per person)',\n",
       " 'CO2 emissions from solid fuel consumption (kt)',\n",
       " 'GDP per capita (current US$)',\n",
       " 'Merchandise exports by the reporting economy, residual (% of total merchandise exports)',\n",
       " 'Merchandise trade (% of GDP)',\n",
       " 'Permanent cropland (% of land area)',\n",
       " 'Population density (people per sq. km of land area)',\n",
       " 'Urban population (% of total)']"
      ]
     },
     "execution_count": 8,
     "metadata": {},
     "output_type": "execute_result"
    }
   ],
   "source": [
    "forwardSelectionFeatures"
   ]
  },
  {
   "cell_type": "code",
   "execution_count": 9,
   "metadata": {},
   "outputs": [
    {
     "name": "stdout",
     "output_type": "stream",
     "text": [
      "Mean Absolute Error: 3.643080463257614\n",
      "Mean Squared Error: 24.488519452411985\n",
      "Root Mean Squared Error: 4.948587621979829\n",
      "R-Squared: 0.7889030119630167\n",
      "VIF must be less than: 4.73715901538493\n"
     ]
    }
   ],
   "source": [
    "from sklearn import metrics\n",
    "modelAll = LinearRegression()\n",
    "modelAll.fit(xLasso, y_quantitative)\n",
    "y_pred = modelAll.predict(xLasso)\n",
    "print('Mean Absolute Error:', metrics.mean_absolute_error(y_quantitative, y_pred))\n",
    "print('Mean Squared Error:', metrics.mean_squared_error(y_quantitative, y_pred))\n",
    "print('Root Mean Squared Error:', np.sqrt(metrics.mean_squared_error(y_quantitative, y_pred)))\n",
    "print('R-Squared:', modelAll.score(xLasso, y_quantitative))\n",
    "print('VIF must be less than:', 1/(1-modelAll.score(xLasso, y_quantitative)))"
   ]
  },
  {
   "cell_type": "code",
   "execution_count": 10,
   "metadata": {},
   "outputs": [],
   "source": [
    "# Multicollinearity checks via VIF (An acceptable VIF is if it’s less than the max of 10 and 1/1-R² model)\n",
    "import pandas as pd\n",
    "import numpy as np\n",
    "from statsmodels.stats.outliers_influence import variance_inflation_factor"
   ]
  },
  {
   "cell_type": "code",
   "execution_count": 11,
   "metadata": {
    "scrolled": true
   },
   "outputs": [
    {
     "data": {
      "text/html": [
       "<div>\n",
       "<style scoped>\n",
       "    .dataframe tbody tr th:only-of-type {\n",
       "        vertical-align: middle;\n",
       "    }\n",
       "\n",
       "    .dataframe tbody tr th {\n",
       "        vertical-align: top;\n",
       "    }\n",
       "\n",
       "    .dataframe thead th {\n",
       "        text-align: right;\n",
       "    }\n",
       "</style>\n",
       "<table border=\"1\" class=\"dataframe\">\n",
       "  <thead>\n",
       "    <tr style=\"text-align: right;\">\n",
       "      <th></th>\n",
       "      <th>feature</th>\n",
       "      <th>VIF</th>\n",
       "    </tr>\n",
       "  </thead>\n",
       "  <tbody>\n",
       "    <tr>\n",
       "      <th>0</th>\n",
       "      <td>Adolescent fertility rate (births per 1,000 wo...</td>\n",
       "      <td>2.800811</td>\n",
       "    </tr>\n",
       "    <tr>\n",
       "      <th>1</th>\n",
       "      <td>Agricultural land (% of land area)</td>\n",
       "      <td>4.695714</td>\n",
       "    </tr>\n",
       "    <tr>\n",
       "      <th>2</th>\n",
       "      <td>Arable land (hectares per person)</td>\n",
       "      <td>2.097837</td>\n",
       "    </tr>\n",
       "    <tr>\n",
       "      <th>3</th>\n",
       "      <td>Cereal yield (kg per hectare)</td>\n",
       "      <td>2.579817</td>\n",
       "    </tr>\n",
       "    <tr>\n",
       "      <th>4</th>\n",
       "      <td>GDP per capita (current US$)</td>\n",
       "      <td>2.077011</td>\n",
       "    </tr>\n",
       "    <tr>\n",
       "      <th>5</th>\n",
       "      <td>Merchandise exports by the reporting economy, ...</td>\n",
       "      <td>2.081330</td>\n",
       "    </tr>\n",
       "    <tr>\n",
       "      <th>6</th>\n",
       "      <td>Merchandise imports by the reporting economy, ...</td>\n",
       "      <td>2.433274</td>\n",
       "    </tr>\n",
       "    <tr>\n",
       "      <th>7</th>\n",
       "      <td>Permanent cropland (% of land area)</td>\n",
       "      <td>1.699907</td>\n",
       "    </tr>\n",
       "    <tr>\n",
       "      <th>8</th>\n",
       "      <td>Population density (people per sq. km of land ...</td>\n",
       "      <td>1.803618</td>\n",
       "    </tr>\n",
       "    <tr>\n",
       "      <th>9</th>\n",
       "      <td>Urban population (% of total)</td>\n",
       "      <td>5.237028</td>\n",
       "    </tr>\n",
       "  </tbody>\n",
       "</table>\n",
       "</div>"
      ],
      "text/plain": [
       "                                             feature       VIF\n",
       "0  Adolescent fertility rate (births per 1,000 wo...  2.800811\n",
       "1                 Agricultural land (% of land area)  4.695714\n",
       "2                  Arable land (hectares per person)  2.097837\n",
       "3                      Cereal yield (kg per hectare)  2.579817\n",
       "4                       GDP per capita (current US$)  2.077011\n",
       "5  Merchandise exports by the reporting economy, ...  2.081330\n",
       "6  Merchandise imports by the reporting economy, ...  2.433274\n",
       "7                Permanent cropland (% of land area)  1.699907\n",
       "8  Population density (people per sq. km of land ...  1.803618\n",
       "9                      Urban population (% of total)  5.237028"
      ]
     },
     "execution_count": 11,
     "metadata": {},
     "output_type": "execute_result"
    }
   ],
   "source": [
    "X_variables = xLasso\n",
    "vif_data = pd.DataFrame()\n",
    "vif_data[\"feature\"] = X_variables.columns\n",
    "vif_data[\"VIF\"] = [variance_inflation_factor(X_variables.values, i) for i in range(len(X_variables.columns))]\n",
    "vif_data.to_csv(\"vif_data_lasso.csv\")\n",
    "vif_data\n"
   ]
  },
  {
   "cell_type": "code",
   "execution_count": 12,
   "metadata": {},
   "outputs": [
    {
     "name": "stdout",
     "output_type": "stream",
     "text": [
      "Mean Absolute Error: 3.669503589781588\n",
      "Mean Squared Error: 24.671628478279228\n",
      "Root Mean Squared Error: 4.967054305952295\n",
      "R-Squared: 0.7873245676671876\n",
      "VIF must be less than: 4.702000550938653\n"
     ]
    }
   ],
   "source": [
    "from sklearn import metrics\n",
    "modelAll = LinearRegression()\n",
    "modelfit = modelAll.fit(xFowardSelection, y_quantitative)\n",
    "y_pred = modelAll.predict(xFowardSelection)\n",
    "print('Mean Absolute Error:', metrics.mean_absolute_error(y_quantitative, y_pred))\n",
    "print('Mean Squared Error:', metrics.mean_squared_error(y_quantitative, y_pred))\n",
    "print('Root Mean Squared Error:', np.sqrt(metrics.mean_squared_error(y_quantitative, y_pred)))\n",
    "print('R-Squared:', modelAll.score(xFowardSelection, y_quantitative))\n",
    "print('VIF must be less than:', 1/(1-modelAll.score(xFowardSelection, y_quantitative)))"
   ]
  },
  {
   "cell_type": "code",
   "execution_count": 13,
   "metadata": {},
   "outputs": [
    {
     "data": {
      "text/html": [
       "<div>\n",
       "<style scoped>\n",
       "    .dataframe tbody tr th:only-of-type {\n",
       "        vertical-align: middle;\n",
       "    }\n",
       "\n",
       "    .dataframe tbody tr th {\n",
       "        vertical-align: top;\n",
       "    }\n",
       "\n",
       "    .dataframe thead th {\n",
       "        text-align: right;\n",
       "    }\n",
       "</style>\n",
       "<table border=\"1\" class=\"dataframe\">\n",
       "  <thead>\n",
       "    <tr style=\"text-align: right;\">\n",
       "      <th></th>\n",
       "      <th>feature</th>\n",
       "      <th>VIF</th>\n",
       "    </tr>\n",
       "  </thead>\n",
       "  <tbody>\n",
       "    <tr>\n",
       "      <th>0</th>\n",
       "      <td>Adolescent fertility rate (births per 1,000 wo...</td>\n",
       "      <td>2.554039</td>\n",
       "    </tr>\n",
       "    <tr>\n",
       "      <th>1</th>\n",
       "      <td>Arable land (% of land area)</td>\n",
       "      <td>2.839140</td>\n",
       "    </tr>\n",
       "    <tr>\n",
       "      <th>2</th>\n",
       "      <td>Arable land (hectares per person)</td>\n",
       "      <td>2.047759</td>\n",
       "    </tr>\n",
       "    <tr>\n",
       "      <th>3</th>\n",
       "      <td>CO2 emissions from solid fuel consumption (kt)</td>\n",
       "      <td>1.057034</td>\n",
       "    </tr>\n",
       "    <tr>\n",
       "      <th>4</th>\n",
       "      <td>GDP per capita (current US$)</td>\n",
       "      <td>1.908340</td>\n",
       "    </tr>\n",
       "    <tr>\n",
       "      <th>5</th>\n",
       "      <td>Merchandise exports by the reporting economy, ...</td>\n",
       "      <td>1.584972</td>\n",
       "    </tr>\n",
       "    <tr>\n",
       "      <th>6</th>\n",
       "      <td>Merchandise trade (% of GDP)</td>\n",
       "      <td>2.560760</td>\n",
       "    </tr>\n",
       "    <tr>\n",
       "      <th>7</th>\n",
       "      <td>Permanent cropland (% of land area)</td>\n",
       "      <td>1.598119</td>\n",
       "    </tr>\n",
       "    <tr>\n",
       "      <th>8</th>\n",
       "      <td>Population density (people per sq. km of land ...</td>\n",
       "      <td>2.272673</td>\n",
       "    </tr>\n",
       "    <tr>\n",
       "      <th>9</th>\n",
       "      <td>Urban population (% of total)</td>\n",
       "      <td>4.830342</td>\n",
       "    </tr>\n",
       "  </tbody>\n",
       "</table>\n",
       "</div>"
      ],
      "text/plain": [
       "                                             feature       VIF\n",
       "0  Adolescent fertility rate (births per 1,000 wo...  2.554039\n",
       "1                       Arable land (% of land area)  2.839140\n",
       "2                  Arable land (hectares per person)  2.047759\n",
       "3     CO2 emissions from solid fuel consumption (kt)  1.057034\n",
       "4                       GDP per capita (current US$)  1.908340\n",
       "5  Merchandise exports by the reporting economy, ...  1.584972\n",
       "6                       Merchandise trade (% of GDP)  2.560760\n",
       "7                Permanent cropland (% of land area)  1.598119\n",
       "8  Population density (people per sq. km of land ...  2.272673\n",
       "9                      Urban population (% of total)  4.830342"
      ]
     },
     "execution_count": 13,
     "metadata": {},
     "output_type": "execute_result"
    }
   ],
   "source": [
    "X_variables = xFowardSelection\n",
    "vif_data = pd.DataFrame()\n",
    "vif_data[\"feature\"] = X_variables.columns\n",
    "vif_data[\"VIF\"] = [variance_inflation_factor(X_variables.values, i) for i in range(len(X_variables.columns))]\n",
    "vif_data.to_csv(\"vif_data_forward_selection.csv\")\n",
    "vif_data"
   ]
  },
  {
   "cell_type": "code",
   "execution_count": 14,
   "metadata": {},
   "outputs": [
    {
     "name": "stdout",
     "output_type": "stream",
     "text": [
      "                                           OLS Regression Results                                           \n",
      "============================================================================================================\n",
      "Dep. Variable:     Life expectancy at birth, total (years)   R-squared (uncentered):                   0.962\n",
      "Model:                                                 OLS   Adj. R-squared (uncentered):              0.962\n",
      "Method:                                      Least Squares   F-statistic:                          1.572e+04\n",
      "Date:                                     Tue, 16 Nov 2021   Prob (F-statistic):                        0.00\n",
      "Time:                                             18:19:17   Log-Likelihood:                         -24801.\n",
      "No. Observations:                                     6259   AIC:                                  4.962e+04\n",
      "Df Residuals:                                         6249   BIC:                                  4.969e+04\n",
      "Df Model:                                               10                                                  \n",
      "Covariance Type:                                 nonrobust                                                  \n",
      "===========================================================================================================================================================\n",
      "                                                                                              coef    std err          t      P>|t|      [0.025      0.975]\n",
      "-----------------------------------------------------------------------------------------------------------------------------------------------------------\n",
      "Adolescent fertility rate (births per 1,000 women ages 15-19)                               0.1120      0.003     41.814      0.000       0.107       0.117\n",
      "Arable land (% of land area)                                                                0.3022      0.013     22.751      0.000       0.276       0.328\n",
      "Arable land (hectares per person)                                                           3.4339      0.486      7.064      0.000       2.481       4.387\n",
      "CO2 emissions from solid fuel consumption (kt)                                           4.255e-06   1.88e-07     22.641      0.000    3.89e-06    4.62e-06\n",
      "GDP per capita (current US$)                                                                0.0001   1.92e-05      6.544      0.000    8.79e-05       0.000\n",
      "Merchandise exports by the reporting economy, residual (% of total merchandise exports)     0.1923      0.013     15.033      0.000       0.167       0.217\n",
      "Merchandise trade (% of GDP)                                                                0.0927      0.004     24.564      0.000       0.085       0.100\n",
      "Permanent cropland (% of land area)                                                         0.9525      0.037     26.063      0.000       0.881       1.024\n",
      "Population density (people per sq. km of land area)                                         0.0114      0.001      8.817      0.000       0.009       0.014\n",
      "Urban population (% of total)                                                               0.7143      0.007    109.508      0.000       0.701       0.727\n",
      "==============================================================================\n",
      "Omnibus:                      500.389   Durbin-Watson:                   2.057\n",
      "Prob(Omnibus):                  0.000   Jarque-Bera (JB):             2081.778\n",
      "Skew:                          -0.298   Prob(JB):                         0.00\n",
      "Kurtosis:                       5.762   Cond. No.                     2.66e+06\n",
      "==============================================================================\n",
      "\n",
      "Warnings:\n",
      "[1] Standard Errors assume that the covariance matrix of the errors is correctly specified.\n",
      "[2] The condition number is large, 2.66e+06. This might indicate that there are\n",
      "strong multicollinearity or other numerical problems.\n"
     ]
    }
   ],
   "source": [
    "import statsmodels.api as sm\n",
    "est = sm.OLS(y_quantitative,xFowardSelection)\n",
    "est2 = est.fit()\n",
    "print(est2.summary())"
   ]
  },
  {
   "cell_type": "code",
   "execution_count": null,
   "metadata": {},
   "outputs": [],
   "source": []
  }
 ],
 "metadata": {
  "kernelspec": {
   "display_name": "Python 3",
   "language": "python",
   "name": "python3"
  },
  "language_info": {
   "codemirror_mode": {
    "name": "ipython",
    "version": 3
   },
   "file_extension": ".py",
   "mimetype": "text/x-python",
   "name": "python",
   "nbconvert_exporter": "python",
   "pygments_lexer": "ipython3",
   "version": "3.7.6"
  }
 },
 "nbformat": 4,
 "nbformat_minor": 4
}
