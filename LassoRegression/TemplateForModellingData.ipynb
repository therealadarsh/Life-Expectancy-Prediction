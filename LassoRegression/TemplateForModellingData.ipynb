{
 "cells": [
  {
   "cell_type": "markdown",
   "metadata": {},
   "source": [
    "## This is a template to use for training classification and regression models\n",
    "We have two feature sets that we need to decide on which ones to use for our modelling.\n",
    "\n",
    "Use linear regression to determine which set performs better in prediction accuracy so that we can make suggest action to be taken based on inference\n",
    "\n",
    "Then determine the best classification n for knn to determine the best model for predicting an above average outcome for life expectancy for the feature set decided upon with the linear regression"
   ]
  },
  {
   "cell_type": "code",
   "execution_count": 9,
   "metadata": {},
   "outputs": [
    {
     "data": {
      "text/plain": [
       "['Adolescent fertility rate (births per 1,000 women ages 15-19)',\n",
       " 'Arable land (% of land area)',\n",
       " 'Arable land (hectares per person)',\n",
       " 'CO2 emissions from solid fuel consumption (kt)',\n",
       " 'GDP per capita (current US$)',\n",
       " 'Merchandise exports by the reporting economy, residual (% of total merchandise exports)',\n",
       " 'Merchandise trade (% of GDP)',\n",
       " 'Permanent cropland (% of land area)',\n",
       " 'Population density (people per sq. km of land area)',\n",
       " 'Urban population (% of total)']"
      ]
     },
     "execution_count": 9,
     "metadata": {},
     "output_type": "execute_result"
    }
   ],
   "source": [
    "import pandas as pd\n",
    "\n",
    "df = pd.read_csv('LassoForwardSelectionDataSetForModelling.csv')\n",
    "#lassoFeatures = pd.read_csv('top10predictorsLasso_cv.csv')['0'].tolist()\n",
    "forwardSelectionFeatures = pd.read_csv('ForwardSelectionVia5FoldCV.csv')[\"0\"].tolist()\n",
    "\n",
    "y_qualitative = df['AboveAverageLifeExpectancyByYear']\n",
    "y_quantitative = df['Life expectancy at birth, total (years)']\n",
    "#xLasso = df[np.intersect1d(df.columns, lassoFeatures)]\n",
    "xFowardSelection = df[np.intersect1d(df.columns, forwardSelectionFeatures)]\n",
    "\n",
    "forwardSelectionFeatures"
   ]
  },
  {
   "cell_type": "code",
   "execution_count": null,
   "metadata": {},
   "outputs": [],
   "source": []
  }
 ],
 "metadata": {
  "kernelspec": {
   "display_name": "Python 3",
   "language": "python",
   "name": "python3"
  },
  "language_info": {
   "codemirror_mode": {
    "name": "ipython",
    "version": 3
   },
   "file_extension": ".py",
   "mimetype": "text/x-python",
   "name": "python",
   "nbconvert_exporter": "python",
   "pygments_lexer": "ipython3",
   "version": "3.7.6"
  }
 },
 "nbformat": 4,
 "nbformat_minor": 4
}
