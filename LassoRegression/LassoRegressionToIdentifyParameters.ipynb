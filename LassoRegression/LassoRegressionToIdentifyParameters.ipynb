{
 "cells": [
  {
   "cell_type": "markdown",
   "metadata": {},
   "source": [
    "# LassoRegression for parameter selection\n",
    "\n",
    "revisions\n",
    "2021-10-31 - dgilroy - initial setup"
   ]
  },
  {
   "cell_type": "code",
   "execution_count": 1,
   "metadata": {},
   "outputs": [],
   "source": [
    "# evaluate an lasso regression model on the dataset\n",
    "from numpy import *\n",
    "from matplotlib import *\n",
    "from numpy import mean\n",
    "from numpy import std\n",
    "from numpy import absolute\n",
    "from pandas import read_csv\n",
    "from sklearn.model_selection import cross_val_score\n",
    "from sklearn.model_selection import RepeatedKFold\n",
    "from sklearn.model_selection import GridSearchCV\n",
    "from sklearn.linear_model import Lasso\n",
    "from sklearn import datasets\n",
    "from sklearn.linear_model import LassoCV\n",
    "from sklearn.model_selection import KFold\n",
    "from sklearn.preprocessing import StandardScaler\n",
    "from collections import Counter\n",
    "import numpy as np\n",
    "import pandas as pd\n",
    "from sklearn.pipeline import make_pipeline\n",
    "\n",
    "# importing the models\n",
    "from mlxtend.feature_selection import SequentialFeatureSelector as SFS\n",
    "from sklearn.linear_model import LinearRegression\n",
    "from mlxtend.plotting import plot_sequential_feature_selection as plot_sfs\n",
    "import matplotlib.pyplot as plt\n",
    "\n",
    "import itertools"
   ]
  },
  {
   "cell_type": "markdown",
   "metadata": {},
   "source": [
    "### Load dataset trimed to 10000 observations per predictor"
   ]
  },
  {
   "cell_type": "code",
   "execution_count": 2,
   "metadata": {},
   "outputs": [],
   "source": [
    "df = pd.read_csv('../finalDataSetForModelling.csv')\n",
    "\n",
    "features = df.columns.tolist()\n",
    "\n",
    "features.remove('CountryName')\n",
    "features.remove('Life expectancy at birth, total (years)')\n",
    "\n",
    "X=df[features]\n",
    "y=df['Life expectancy at birth, total (years)']"
   ]
  },
  {
   "cell_type": "markdown",
   "metadata": {},
   "source": [
    "###### Remove predictors that appear to be functions of the Y/Response"
   ]
  },
  {
   "cell_type": "code",
   "execution_count": 3,
   "metadata": {},
   "outputs": [],
   "source": [
    "featuresToRemove = [\n",
    " 'Death rate, crude (per 1,000 people)',\n",
    " 'Mortality rate, adult, female (per 1,000 female adults)',\n",
    " 'Mortality rate, under-5 (per 1,000)',\n",
    " 'Population ages 65 and above (% of total)',\n",
    " 'Survival to age 65, female (% of cohort)',\n",
    " 'Survival to age 65, male (% of cohort)',\n",
    " 'Year',\n",
    " 'Mortality rate, adult, male (per 1,000 male adults)',\n",
    " 'Mortality rate, infant (per 1,000 live births)',\n",
    " 'Population, ages 15-64 (% of total)',\n",
    " 'Age dependency ratio (% of working-age population)',\n",
    " 'Age dependency ratio, old (% of working-age population)',\n",
    " 'Age dependency ratio, young (% of working-age population)',\n",
    " 'Population growth (annual %)',\n",
    " 'Urban population growth (annual %)',\n",
    " 'Population, ages 0-14 (% of total)',\n",
    " 'Rural population growth (annual %)'\n",
    "]"
   ]
  },
  {
   "cell_type": "code",
   "execution_count": 4,
   "metadata": {},
   "outputs": [],
   "source": [
    "featuresToRemoveDueToMulticollinearity = [\n",
    "    'Birth rate, crude (per 1,000 people)',\n",
    "    'Rural population (% of total population)',\n",
    "    'Population, female (% of total)',\n",
    "    'Fertility rate, total (births per woman)',\n",
    "    'Merchandise imports from high-income economies (% of total merchandise imports)',\n",
    "    'Crop production index (2004-2006 = 100)',\n",
    "    'Food production index (2004-2006 = 100)',\n",
    "    'Livestock production index (2004-2006 = 100)',\n",
    "    'Merchandise exports to high-income economies (% of total merchandise exports)'\n",
    "]"
   ]
  },
  {
   "cell_type": "code",
   "execution_count": 5,
   "metadata": {},
   "outputs": [],
   "source": [
    "X=X.drop(columns=featuresToRemove)\n",
    "X=X.drop(columns=featuresToRemoveDueToMulticollinearity)\n",
    "features = 10"
   ]
  },
  {
   "cell_type": "markdown",
   "metadata": {},
   "source": [
    "#### Use lasso regression over a range of lambda's to find the predictors associated with a optimal fit for various alpha\n",
    "This was done for the whole dataset. Second Lasso work was done via K-Folder Cross validation\n",
    "After some initial review, lambda range 0.005-0.06 step 0.005 resulted in non-zero predictor count around ~10\n",
    "Using the frequency of non-zero predictors across several lasso fits, the most frequcent non-zero predictors were used, and this resulted in 10 predictors."
   ]
  },
  {
   "cell_type": "code",
   "execution_count": 6,
   "metadata": {},
   "outputs": [
    {
     "name": "stdout",
     "output_type": "stream",
     "text": [
      "0.3 11\n",
      "0.35 11\n",
      "0.39999999999999997 11\n",
      "0.44999999999999996 10\n",
      "0.49999999999999994 10\n",
      "0.5499999999999999 9\n",
      "0.5999999999999999 8\n",
      "0.6499999999999999 7\n",
      "0.7 7\n",
      "0.7499999999999999 7\n",
      "0.7999999999999998 7\n",
      "0.8499999999999999 5\n",
      "0.8999999999999999 5\n",
      "                                            predictor  frequency\n",
      "0   Adolescent fertility rate (births per 1,000 wo...         13\n",
      "3                       Cereal yield (kg per hectare)         13\n",
      "4                        GDP per capita (current US$)         13\n",
      "5   Merchandise exports by the reporting economy, ...         13\n",
      "10                      Urban population (% of total)         13\n",
      "6   Merchandise imports by the reporting economy, ...         11\n",
      "9   Population density (people per sq. km of land ...         11\n",
      "2                   Arable land (hectares per person)          7\n",
      "8                 Permanent cropland (% of land area)          6\n",
      "7                        Merchandise trade (% of GDP)          5\n",
      "1                  Agricultural land (% of land area)          3\n"
     ]
    },
    {
     "data": {
      "text/plain": [
       "['Adolescent fertility rate (births per 1,000 women ages 15-19)',\n",
       " 'Cereal yield (kg per hectare)',\n",
       " 'GDP per capita (current US$)',\n",
       " 'Merchandise exports by the reporting economy, residual (% of total merchandise exports)',\n",
       " 'Urban population (% of total)',\n",
       " 'Merchandise imports by the reporting economy, residual (% of total merchandise imports)',\n",
       " 'Population density (people per sq. km of land area)',\n",
       " 'Arable land (hectares per person)',\n",
       " 'Permanent cropland (% of land area)',\n",
       " 'Merchandise trade (% of GDP)']"
      ]
     },
     "execution_count": 6,
     "metadata": {},
     "output_type": "execute_result"
    }
   ],
   "source": [
    "lassoRange=arange(0.3,0.9,0.05)\n",
    "allPredictors = []\n",
    "X2 = StandardScaler().fit_transform(X)\n",
    "for alphaValue in lassoRange:\n",
    "    model = Lasso(alpha=alphaValue,max_iter=10000)\n",
    "    model.fit(X2,y)\n",
    "    numParameters = sum([int(x!=0) for x in model.coef_])\n",
    "    print(alphaValue, numParameters)\n",
    "    predictors = list(itertools.compress(list(X.columns),list([x!=0 for x in model.coef_])))\n",
    "    allPredictors += predictors\n",
    "\n",
    "allPredictorsAsSeries = pd.Series(allPredictors) \n",
    "predictorFrequency = dict(Counter(allPredictorsAsSeries))\n",
    "predictorFrequencyDataframe = pd.DataFrame.from_dict(predictorFrequency, orient='index', columns=['frequency'])\n",
    "predictorFrequencyDataframe.reset_index(inplace=True)\n",
    "predictorFrequencyDataframe.columns=['predictor', 'frequency']\n",
    "\n",
    "predictorTable = predictorFrequencyDataframe.sort_values('frequency',ascending=False)\n",
    "top10predictors = predictorTable.head(features)['predictor'].tolist()\n",
    "print(predictorTable)\n",
    "\n",
    "top10predictors"
   ]
  },
  {
   "cell_type": "code",
   "execution_count": 7,
   "metadata": {},
   "outputs": [],
   "source": [
    "lassoPredictorsRanked = predictorFrequencyDataframe.sort_values('frequency',ascending=False)\n",
    "lassoPredictorsRanked.to_csv(\"lassoPredictorsRanked.csv\")"
   ]
  },
  {
   "cell_type": "markdown",
   "metadata": {},
   "source": [
    "####  Do lasso via k-fold (5) cross validation over a range of lambda's to find the predictors associated with a optimal fit for various alpha\n",
    "This was done for the whole dataset. Second Lasso work was done via K-Folder Cross validation\n",
    "After some initial review, lambda range 0.005-0.06 step 0.005 resulted in non-zero predictor count around ~10\n",
    "Using the frequency of non-zero predictors across several lasso fits, the most frequcent non-zero predictors were used, and this resulted in 10 predictors."
   ]
  },
  {
   "cell_type": "code",
   "execution_count": 8,
   "metadata": {},
   "outputs": [
    {
     "name": "stdout",
     "output_type": "stream",
     "text": [
      "[fold 0] alpha: 0.35000, score: 0.72629\n",
      "[fold 1] alpha: 0.75000, score: 0.77908\n",
      "[fold 2] alpha: 0.35000, score: 0.74409\n",
      "[fold 3] alpha: 0.75000, score: 0.71492\n",
      "[fold 4] alpha: 0.50000, score: 0.70753\n"
     ]
    },
    {
     "data": {
      "image/png": "[encoded data removed]",
      "text/plain": [
       "<Figure size 576x432 with 1 Axes>"
      ]
     },
     "metadata": {
      "needs_background": "light"
     },
     "output_type": "display_data"
    }
   ],
   "source": [
    "lasso = Lasso(random_state=0, max_iter=10000)\n",
    "alphas = lassoRange\n",
    "\n",
    "tuned_parameters = [{\"alpha\": alphas}]\n",
    "n_folds = 5\n",
    "\n",
    "clf = GridSearchCV(lasso, tuned_parameters, cv=n_folds, refit=False)\n",
    "clf.fit(X2, y)\n",
    "scores = clf.cv_results_[\"mean_test_score\"]\n",
    "scores_std = clf.cv_results_[\"std_test_score\"]\n",
    "plt.figure().set_size_inches(8, 6)\n",
    "plt.semilogx(alphas, scores)\n",
    "\n",
    "# plot error lines showing +/- std. errors of the scores\n",
    "std_error = scores_std / np.sqrt(n_folds)\n",
    "\n",
    "plt.semilogx(alphas, scores + std_error, \"b--\")\n",
    "plt.semilogx(alphas, scores - std_error, \"b--\")\n",
    "\n",
    "# alpha=0.2 controls the translucency of the fill color\n",
    "plt.fill_between(alphas, scores + std_error, scores - std_error, alpha=0.2)\n",
    "\n",
    "plt.ylabel(\"CV score +/- std error\")\n",
    "plt.xlabel(\"alpha\")\n",
    "plt.axhline(np.max(scores), linestyle=\"--\", color=\".5\")\n",
    "plt.xlim([alphas[0], alphas[-1]])\n",
    "\n",
    "# Use external cross-validation to see how much the automatically obtained\n",
    "# alphas differ across different cross-validation folds.\n",
    "lasso_cv = LassoCV(alphas=alphas, random_state=0, max_iter=10000)\n",
    "k_fold = KFold(5)\n",
    "allPredictors_cv = []\n",
    "for k, (train, test) in enumerate(k_fold.split(X2, y)):\n",
    "    lasso_cv.fit(X2[train], y[train])\n",
    "    predictors_cv = list(itertools.compress(list(X.columns),list([x!=0 for x in lasso_cv.coef_])))\n",
    "    allPredictors_cv += predictors_cv\n",
    "    print(\n",
    "        \"[fold {0}] alpha: {1:.5f}, score: {2:.5f}\".format(\n",
    "            k, lasso_cv.alpha_, lasso_cv.score(X2[test], y[test])\n",
    "        )\n",
    "    )\n",
    "\n",
    "plt.savefig(\"top10predictorsLasso_cv_5_fold_.3to.9by.05.jpg\")\n",
    "plt.show()"
   ]
  },
  {
   "cell_type": "code",
   "execution_count": 9,
   "metadata": {},
   "outputs": [
    {
     "data": {
      "text/html": [
       "<div>\n",
       "<style scoped>\n",
       "    .dataframe tbody tr th:only-of-type {\n",
       "        vertical-align: middle;\n",
       "    }\n",
       "\n",
       "    .dataframe tbody tr th {\n",
       "        vertical-align: top;\n",
       "    }\n",
       "\n",
       "    .dataframe thead th {\n",
       "        text-align: right;\n",
       "    }\n",
       "</style>\n",
       "<table border=\"1\" class=\"dataframe\">\n",
       "  <thead>\n",
       "    <tr style=\"text-align: right;\">\n",
       "      <th></th>\n",
       "      <th>predictor</th>\n",
       "      <th>frequency</th>\n",
       "    </tr>\n",
       "  </thead>\n",
       "  <tbody>\n",
       "    <tr>\n",
       "      <th>0</th>\n",
       "      <td>Adolescent fertility rate (births per 1,000 wo...</td>\n",
       "      <td>5</td>\n",
       "    </tr>\n",
       "    <tr>\n",
       "      <th>5</th>\n",
       "      <td>Cereal yield (kg per hectare)</td>\n",
       "      <td>5</td>\n",
       "    </tr>\n",
       "    <tr>\n",
       "      <th>9</th>\n",
       "      <td>Urban population (% of total)</td>\n",
       "      <td>5</td>\n",
       "    </tr>\n",
       "    <tr>\n",
       "      <th>6</th>\n",
       "      <td>GDP per capita (current US$)</td>\n",
       "      <td>4</td>\n",
       "    </tr>\n",
       "    <tr>\n",
       "      <th>7</th>\n",
       "      <td>Merchandise exports by the reporting economy, ...</td>\n",
       "      <td>4</td>\n",
       "    </tr>\n",
       "    <tr>\n",
       "      <th>8</th>\n",
       "      <td>Permanent cropland (% of land area)</td>\n",
       "      <td>4</td>\n",
       "    </tr>\n",
       "    <tr>\n",
       "      <th>10</th>\n",
       "      <td>Merchandise imports by the reporting economy, ...</td>\n",
       "      <td>4</td>\n",
       "    </tr>\n",
       "    <tr>\n",
       "      <th>11</th>\n",
       "      <td>Population density (people per sq. km of land ...</td>\n",
       "      <td>4</td>\n",
       "    </tr>\n",
       "    <tr>\n",
       "      <th>1</th>\n",
       "      <td>Agricultural land (% of land area)</td>\n",
       "      <td>2</td>\n",
       "    </tr>\n",
       "    <tr>\n",
       "      <th>3</th>\n",
       "      <td>Arable land (hectares per person)</td>\n",
       "      <td>2</td>\n",
       "    </tr>\n",
       "    <tr>\n",
       "      <th>12</th>\n",
       "      <td>Merchandise trade (% of GDP)</td>\n",
       "      <td>2</td>\n",
       "    </tr>\n",
       "    <tr>\n",
       "      <th>2</th>\n",
       "      <td>Arable land (% of land area)</td>\n",
       "      <td>1</td>\n",
       "    </tr>\n",
       "    <tr>\n",
       "      <th>4</th>\n",
       "      <td>CO2 emissions from solid fuel consumption (% o...</td>\n",
       "      <td>1</td>\n",
       "    </tr>\n",
       "  </tbody>\n",
       "</table>\n",
       "</div>"
      ],
      "text/plain": [
       "                                            predictor  frequency\n",
       "0   Adolescent fertility rate (births per 1,000 wo...          5\n",
       "5                       Cereal yield (kg per hectare)          5\n",
       "9                       Urban population (% of total)          5\n",
       "6                        GDP per capita (current US$)          4\n",
       "7   Merchandise exports by the reporting economy, ...          4\n",
       "8                 Permanent cropland (% of land area)          4\n",
       "10  Merchandise imports by the reporting economy, ...          4\n",
       "11  Population density (people per sq. km of land ...          4\n",
       "1                  Agricultural land (% of land area)          2\n",
       "3                   Arable land (hectares per person)          2\n",
       "12                       Merchandise trade (% of GDP)          2\n",
       "2                        Arable land (% of land area)          1\n",
       "4   CO2 emissions from solid fuel consumption (% o...          1"
      ]
     },
     "execution_count": 9,
     "metadata": {},
     "output_type": "execute_result"
    }
   ],
   "source": [
    "allPredictorsAsSeries_cv = pd.Series(allPredictors_cv) \n",
    "predictorFrequency_cv = dict(Counter(allPredictorsAsSeries_cv))\n",
    "predictorFrequencyDataframe_cv = pd.DataFrame.from_dict(predictorFrequency_cv, orient='index', columns=['frequency'])\n",
    "predictorFrequencyDataframe_cv.reset_index(inplace=True)\n",
    "predictorFrequencyDataframe_cv.columns=['predictor', 'frequency']\n",
    "predictorFrequencyTable=predictorFrequencyDataframe_cv.sort_values('frequency',ascending=False)\n",
    "top10predictorsLasso_cv = predictorFrequencyTable.head(features)['predictor'].tolist()\n",
    "predictorFrequencyTable.to_csv(\"LassoPredictorTableFrequencyDistribution.csv\")\n",
    "pd.DataFrame(top10predictorsLasso_cv).to_csv(\"top10predictorsLasso_cv.csv\")\n",
    "predictorFrequencyDataframe_cv.sort_values('frequency',ascending=False)"
   ]
  },
  {
   "cell_type": "code",
   "execution_count": 10,
   "metadata": {},
   "outputs": [
    {
     "data": {
      "text/plain": [
       "['Adolescent fertility rate (births per 1,000 women ages 15-19)',\n",
       " 'Cereal yield (kg per hectare)',\n",
       " 'Urban population (% of total)',\n",
       " 'GDP per capita (current US$)',\n",
       " 'Merchandise exports by the reporting economy, residual (% of total merchandise exports)',\n",
       " 'Permanent cropland (% of land area)',\n",
       " 'Merchandise imports by the reporting economy, residual (% of total merchandise imports)',\n",
       " 'Population density (people per sq. km of land area)',\n",
       " 'Agricultural land (% of land area)',\n",
       " 'Arable land (hectares per person)']"
      ]
     },
     "execution_count": 10,
     "metadata": {},
     "output_type": "execute_result"
    }
   ],
   "source": [
    "top10predictorsLasso_cv"
   ]
  },
  {
   "cell_type": "markdown",
   "metadata": {},
   "source": [
    "### Redo feature selection by way for Sequential Forward Selection\n",
    "http://rasbt.github.io/mlxtend/user_guide/feature_selection/SequentialFeatureSelector/"
   ]
  },
  {
   "cell_type": "code",
   "execution_count": 11,
   "metadata": {},
   "outputs": [],
   "source": [
    "def GetFeatures(k_features, X, y, verbose):\n",
    "    # calling the linear regression model\n",
    "    lreg = LinearRegression()\n",
    "    sfs1 = SFS(lreg, k_features=k_features, forward=True, verbose=verbose, scoring='neg_mean_squared_error')\n",
    "\n",
    "    sfs1 = sfs1.fit(X, y)\n",
    "\n",
    "    feat_names = list(sfs1.k_feature_idx_)\n",
    "    return feat_names"
   ]
  },
  {
   "cell_type": "markdown",
   "metadata": {},
   "source": [
    "#### This does a fit to all the data, not leveraging any crossvalidation to determine the features selected"
   ]
  },
  {
   "cell_type": "code",
   "execution_count": 12,
   "metadata": {},
   "outputs": [],
   "source": [
    "features_selected = GetFeatures(features, X, y, False)\n",
    "# property_asel = [X.columns[i] for i in sfs_predicorIdexes]\n",
    "# property_asel"
   ]
  },
  {
   "cell_type": "code",
   "execution_count": 13,
   "metadata": {},
   "outputs": [
    {
     "data": {
      "text/plain": [
       "['Adolescent fertility rate (births per 1,000 women ages 15-19)',\n",
       " 'Arable land (hectares per person)',\n",
       " 'CO2 emissions from solid fuel consumption (kt)',\n",
       " 'GDP per capita (current US$)',\n",
       " 'Merchandise exports by the reporting economy, residual (% of total merchandise exports)',\n",
       " 'Merchandise trade (% of GDP)',\n",
       " 'Number of under-five deaths',\n",
       " 'Permanent cropland (% of land area)',\n",
       " 'Rural population',\n",
       " 'Urban population (% of total)']"
      ]
     },
     "execution_count": 13,
     "metadata": {},
     "output_type": "execute_result"
    }
   ],
   "source": [
    "sfs_predicorIdexes1 = list(map(lambda x : x, features_selected))\n",
    "property_asel_1 = [X.columns[i] for i in sfs_predicorIdexes1]\n",
    "property_asel_1"
   ]
  },
  {
   "cell_type": "code",
   "execution_count": 14,
   "metadata": {},
   "outputs": [],
   "source": [
    "pd.DataFrame(property_asel_1).to_csv(\"ForwardSelection1.csv\")"
   ]
  },
  {
   "cell_type": "markdown",
   "metadata": {},
   "source": [
    "#### This use cross validation with k-fold of 10 to determine the features selected"
   ]
  },
  {
   "cell_type": "code",
   "execution_count": 15,
   "metadata": {},
   "outputs": [
    {
     "data": {
      "image/png": "[encoded data removed]",
      "text/plain": [
       "<Figure size 432x288 with 1 Axes>"
      ]
     },
     "metadata": {
      "needs_background": "light"
     },
     "output_type": "display_data"
    }
   ],
   "source": [
    "lr = LinearRegression()\n",
    "\n",
    "sfs = SFS(lr, \n",
    "          k_features=features, \n",
    "          forward=True, \n",
    "          floating=False, \n",
    "          scoring='neg_mean_squared_error',\n",
    "          cv=10)\n",
    "\n",
    "sfs = sfs.fit(X, y)\n",
    "fig = plot_sfs(sfs.get_metric_dict(), kind='std_err')\n",
    "\n",
    "plt.title('Sequential Forward Selection (w. StdErr)')\n",
    "plt.grid()\n",
    "plt.show()"
   ]
  },
  {
   "cell_type": "code",
   "execution_count": 16,
   "metadata": {},
   "outputs": [
    {
     "data": {
      "text/plain": [
       "['Adolescent fertility rate (births per 1,000 women ages 15-19)',\n",
       " 'Agricultural land (sq. km)',\n",
       " 'Arable land (hectares per person)',\n",
       " 'CO2 emissions from solid fuel consumption (kt)',\n",
       " 'GDP per capita (current US$)',\n",
       " 'Merchandise exports by the reporting economy, residual (% of total merchandise exports)',\n",
       " 'Number of infant deaths',\n",
       " 'Number of under-five deaths',\n",
       " 'Permanent cropland (% of land area)',\n",
       " 'Urban population (% of total)']"
      ]
     },
     "execution_count": 16,
     "metadata": {},
     "output_type": "execute_result"
    }
   ],
   "source": [
    "#print('Selected features:', sfs.k_feature_idx_)\n",
    "type(list(sfs.k_feature_idx_))\n",
    "sfs_predicorIdexes = list(map(lambda x : x, list(sfs.k_feature_idx_)))\n",
    "property_asel = [X.columns[i] for i in sfs_predicorIdexes]\n",
    "property_asel"
   ]
  },
  {
   "cell_type": "markdown",
   "metadata": {},
   "source": [
    "#### This another way to use cross validation with k-fold of 5 to determine the features selected"
   ]
  },
  {
   "cell_type": "code",
   "execution_count": 17,
   "metadata": {},
   "outputs": [],
   "source": [
    "from sklearn.model_selection import train_test_split\n",
    "X_train, X_test, y_train, y_test = train_test_split(\n",
    "         X, y, test_size=0.33, random_state=1)"
   ]
  },
  {
   "cell_type": "code",
   "execution_count": 18,
   "metadata": {},
   "outputs": [
    {
     "name": "stdout",
     "output_type": "stream",
     "text": [
      "best combination (ACC: -25.162): (0, 3, 4, 12, 16, 21, 25, 28, 29, 34)\n",
      "\n"
     ]
    },
    {
     "data": {
      "text/plain": [
       "['Adolescent fertility rate (births per 1,000 women ages 15-19)',\n",
       " 'Arable land (% of land area)',\n",
       " 'Arable land (hectares per person)',\n",
       " 'CO2 emissions from solid fuel consumption (kt)',\n",
       " 'GDP per capita (current US$)',\n",
       " 'Merchandise exports by the reporting economy, residual (% of total merchandise exports)',\n",
       " 'Merchandise trade (% of GDP)',\n",
       " 'Permanent cropland (% of land area)',\n",
       " 'Population density (people per sq. km of land area)',\n",
       " 'Urban population (% of total)']"
      ]
     },
     "execution_count": 18,
     "metadata": {},
     "output_type": "execute_result"
    },
    {
     "data": {
      "image/png": "[encoded data removed]",
      "text/plain": [
       "<Figure size 432x288 with 1 Axes>"
      ]
     },
     "metadata": {
      "needs_background": "light"
     },
     "output_type": "display_data"
    }
   ],
   "source": [
    "lr = LinearRegression()\n",
    "\n",
    "sfs1 = SFS(estimator=lr, \n",
    "           k_features=features,\n",
    "           forward=True, \n",
    "           floating=False, \n",
    "           scoring='neg_mean_squared_error',\n",
    "           cv=5)\n",
    "\n",
    "pipe = make_pipeline(StandardScaler(), sfs1)\n",
    "\n",
    "pipe.fit(X_train, y_train)\n",
    "\n",
    "print('best combination (ACC: %.3f): %s\\n' % (sfs1.k_score_, sfs1.k_feature_idx_))\n",
    "#print('all subsets:\\n', sfs1.subsets_)\n",
    "plot_sfs(sfs1.get_metric_dict(), kind='std_err');\n",
    "\n",
    "sfs_predicorIdexes_2 = list(map(lambda x : x, list(sfs1.k_feature_idx_)))\n",
    "\n",
    "property_asel_2 = [X.columns[i] for i in sfs_predicorIdexes_2]\n",
    "pd.DataFrame(property_asel_2).to_csv(\"ForwardSelectionVia5FoldCV.csv\")\n",
    "property_asel_2"
   ]
  },
  {
   "cell_type": "markdown",
   "metadata": {},
   "source": [
    "#### And yet another way to use cross validation with k-fold of 5 to determine the features selected"
   ]
  },
  {
   "cell_type": "code",
   "execution_count": 19,
   "metadata": {},
   "outputs": [
    {
     "name": "stdout",
     "output_type": "stream",
     "text": [
      "groups: [  0   0   0 ... 625 625 625]\n",
      "best combination (ACC: -25.217): (0, 1, 3, 4, 12, 16, 21, 28, 29, 34)\n",
      "\n"
     ]
    },
    {
     "data": {
      "text/plain": [
       "['Adolescent fertility rate (births per 1,000 women ages 15-19)',\n",
       " 'Arable land (% of land area)',\n",
       " 'Arable land (hectares per person)',\n",
       " 'CO2 emissions from solid fuel consumption (kt)',\n",
       " 'GDP per capita (current US$)',\n",
       " 'Merchandise exports by the reporting economy, residual (% of total merchandise exports)',\n",
       " 'Merchandise trade (% of GDP)',\n",
       " 'Permanent cropland (% of land area)',\n",
       " 'Population density (people per sq. km of land area)',\n",
       " 'Urban population (% of total)']"
      ]
     },
     "execution_count": 19,
     "metadata": {},
     "output_type": "execute_result"
    }
   ],
   "source": [
    "\n",
    "groups = np.arange(len(y)) // 10\n",
    "print('groups: {}'.format(groups))\n",
    "\n",
    "from sklearn.model_selection import GroupKFold\n",
    "cv_gen = GroupKFold(5).split(X, y, groups)\n",
    "cv_gen\n",
    "\n",
    "cv = list(cv_gen)\n",
    "\n",
    "sfs3 = SFS(estimator=lr, \n",
    "          k_features=features,\n",
    "          scoring='neg_mean_squared_error',\n",
    "          cv=cv)\n",
    "\n",
    "sfs3.fit(X, y)\n",
    "\n",
    "print('best combination (ACC: %.3f): %s\\n' % (sfs3.k_score_, sfs3.k_feature_idx_))\n",
    "\n",
    "sfs_predicorIdexes_3 = list(map(lambda x : x + 1, list(sfs3.k_feature_idx_)))\n",
    "\n",
    "property_asel_3 = [X.columns[i] for i in sfs_predicorIdexes_2]\n",
    "property_asel_3"
   ]
  },
  {
   "cell_type": "markdown",
   "metadata": {},
   "source": [
    "### Create a new dataset for the possible features to use for modelling\n",
    "This combines the features found via lasso and forward selection to use in our knn and linear regression models"
   ]
  },
  {
   "cell_type": "code",
   "execution_count": 20,
   "metadata": {},
   "outputs": [
    {
     "name": "stderr",
     "output_type": "stream",
     "text": [
      "C:\\Users\\danxg\\anaconda3\\lib\\site-packages\\ipykernel_launcher.py:18: SettingWithCopyWarning: \n",
      "A value is trying to be set on a copy of a slice from a DataFrame.\n",
      "Try using .loc[row_indexer,col_indexer] = value instead\n",
      "\n",
      "See the caveats in the documentation: https://pandas.pydata.org/pandas-docs/stable/user_guide/indexing.html#returning-a-view-versus-a-copy\n"
     ]
    }
   ],
   "source": [
    "fowardSelectionFeatures=property_asel_3\n",
    "lassoSelectionFeatures=top10predictorsLasso_cv\n",
    "\n",
    "selectedFeatures = lassoSelectionFeatures + list(set(fowardSelectionFeatures) - set(lassoSelectionFeatures))\n",
    "selectedFeatures\n",
    "\n",
    "finalColumns = list(selectedFeatures)\n",
    "finalColumns.append('Life expectancy at birth, total (years)')\n",
    "finalColumns.append('Year')\n",
    "finalColumns.append('CountryName')\n",
    "\n",
    "featureSelectedDataset = df[finalColumns]\n",
    "featureSelectedDataset.reset_index()\n",
    "\n",
    "meanByYear = featureSelectedDataset[['Year','Life expectancy at birth, total (years)']].groupby('Year').mean().reset_index()\n",
    "meanOverall = featureSelectedDataset[['Life expectancy at birth, total (years)']].mean()\n",
    "\n",
    "featureSelectedDataset['MeanLifeExpetancyOverall'] = meanOverall[0]\n",
    "\n",
    "meanByYear= meanByYear.rename(columns={'Life expectancy at birth, total (years)':'MeanLifeExpetancyForYear'})\n",
    "\n",
    "featureSelectedDataset = pd.merge(left=featureSelectedDataset,right=meanByYear)\n",
    "\n",
    "featureSelectedDataset['AboveAverageLifeExpectancyOverall'] = featureSelectedDataset['Life expectancy at birth, total (years)']>featureSelectedDataset['MeanLifeExpetancyOverall']\n",
    "\n",
    "featureSelectedDataset['AboveAverageLifeExpectancyByYear'] = featureSelectedDataset['Life expectancy at birth, total (years)']>featureSelectedDataset['MeanLifeExpetancyForYear']\n",
    "\n",
    "featureSelectedDataset.to_csv(\"LassoForwardSelectionDataSetForModelling.csv\", index=False)"
   ]
  }
 ],
 "metadata": {
  "kernelspec": {
   "display_name": "Python 3",
   "language": "python",
   "name": "python3"
  },
  "language_info": {
   "codemirror_mode": {
    "name": "ipython",
    "version": 3
   },
   "file_extension": ".py",
   "mimetype": "text/x-python",
   "name": "python",
   "nbconvert_exporter": "python",
   "pygments_lexer": "ipython3",
   "version": "3.7.6"
  }
 },
 "nbformat": 4,
 "nbformat_minor": 4
}
