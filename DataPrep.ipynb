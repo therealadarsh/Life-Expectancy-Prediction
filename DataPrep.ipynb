{
 "cells": [
  {
   "cell_type": "markdown",
   "metadata": {},
   "source": [
    "### Indentify Candidates\n",
    "This code filters all the indicators to those having at least 10000 and present the results in a stacked format\n",
    "\n",
    "2021-09-14: DXG\n",
    "First pass filtering data down to 60 potential components that have over 10000 observations per predicted variable. Stacked version of data is in dataSetForModelling.csv\n",
    "\n",
    "2021-09-21: DXG\n",
    "Modified to pivot stacked data into wide format with no na's\n",
    "finalDataSetForModelling.csv has the following columns:\n",
    "CountryName,Year,Life expectancy at birth, total (years), +60 predictors\n"
   ]
  },
  {
   "cell_type": "code",
   "execution_count": 1,
   "metadata": {},
   "outputs": [],
   "source": [
    "import pandas as pd"
   ]
  },
  {
   "cell_type": "code",
   "execution_count": 2,
   "metadata": {},
   "outputs": [],
   "source": [
    "df = pd.read_csv('indicators.csv')"
   ]
  },
  {
   "cell_type": "code",
   "execution_count": 3,
   "metadata": {},
   "outputs": [
    {
     "data": {
      "text/plain": [
       "(5656458, 6)"
      ]
     },
     "execution_count": 3,
     "metadata": {},
     "output_type": "execute_result"
    }
   ],
   "source": [
    "df.shape\n"
   ]
  },
  {
   "cell_type": "code",
   "execution_count": 4,
   "metadata": {},
   "outputs": [
    {
     "data": {
      "text/plain": [
       "Index(['CountryName', 'CountryCode', 'IndicatorName', 'IndicatorCode', 'Year',\n",
       "       'Value'],\n",
       "      dtype='object')"
      ]
     },
     "execution_count": 4,
     "metadata": {},
     "output_type": "execute_result"
    }
   ],
   "source": [
    "df.columns"
   ]
  },
  {
   "cell_type": "code",
   "execution_count": 5,
   "metadata": {},
   "outputs": [],
   "source": [
    "df_groupBy = df.groupby('IndicatorName').size().reset_index(name='counts').sort_values('counts')"
   ]
  },
  {
   "cell_type": "code",
   "execution_count": 6,
   "metadata": {},
   "outputs": [],
   "source": [
    "df_groupBy.to_csv('IndicatorNameGroupedByCount.csv')"
   ]
  },
  {
   "cell_type": "code",
   "execution_count": 7,
   "metadata": {},
   "outputs": [],
   "source": [
    "#use fairly arbitrary cutoff at 10000 observations per indicator\n",
    "cutOff = 10000\n",
    "df_groupByOver10000 = df_groupBy[df_groupBy['counts'] > cutOff]"
   ]
  },
  {
   "cell_type": "code",
   "execution_count": 8,
   "metadata": {},
   "outputs": [],
   "source": [
    "df_groupByOver10000.to_csv('IndicatorNameGroupedByCountOver' + str(cutOff) + '.csv')"
   ]
  },
  {
   "cell_type": "code",
   "execution_count": 9,
   "metadata": {},
   "outputs": [
    {
     "data": {
      "text/plain": [
       "(63, 2)"
      ]
     },
     "execution_count": 9,
     "metadata": {},
     "output_type": "execute_result"
    }
   ],
   "source": [
    "#filter data to the cutoff limit\n",
    "df_groupByOver10000.shape"
   ]
  },
  {
   "cell_type": "code",
   "execution_count": 10,
   "metadata": {},
   "outputs": [],
   "source": [
    "filteredDataset = pd.merge(left=df,right=df_groupByOver10000)"
   ]
  },
  {
   "cell_type": "code",
   "execution_count": 11,
   "metadata": {},
   "outputs": [],
   "source": [
    "filteredDataset.to_csv('filteredDataset.csv')"
   ]
  },
  {
   "cell_type": "code",
   "execution_count": 12,
   "metadata": {},
   "outputs": [],
   "source": [
    "lifeExpectancyTotal = 'Life expectancy at birth, total (years)'\n",
    "lifeExpectancyMale = 'Life expectancy at birth, male (years)'\n",
    "lifeExpectancyFemale = 'Life expectancy at birth, female (years)'\n",
    "dependentVariables = [lifeExpectancyTotal,lifeExpectancyMale,lifeExpectancyFemale]"
   ]
  },
  {
   "cell_type": "code",
   "execution_count": 13,
   "metadata": {},
   "outputs": [
    {
     "data": {
      "text/plain": [
       "['Life expectancy at birth, total (years)',\n",
       " 'Life expectancy at birth, male (years)',\n",
       " 'Life expectancy at birth, female (years)']"
      ]
     },
     "execution_count": 13,
     "metadata": {},
     "output_type": "execute_result"
    }
   ],
   "source": [
    "dependentVariables"
   ]
  },
  {
   "cell_type": "code",
   "execution_count": 14,
   "metadata": {},
   "outputs": [],
   "source": [
    "#now need to split dataset into the indepedent and dependent sets\n",
    "independentDataRaw = filteredDataset[filteredDataset.IndicatorName.isin(dependentVariables)]"
   ]
  },
  {
   "cell_type": "code",
   "execution_count": 15,
   "metadata": {},
   "outputs": [],
   "source": [
    "dependentData = filteredDataset[~filteredDataset.IndicatorName.isin(dependentVariables)]"
   ]
  },
  {
   "cell_type": "code",
   "execution_count": 16,
   "metadata": {},
   "outputs": [],
   "source": [
    "independentDataRawPivoted = pd.pivot(independentDataRaw,values='Value',index=['CountryName','CountryCode','Year'], columns='IndicatorName')"
   ]
  },
  {
   "cell_type": "code",
   "execution_count": 17,
   "metadata": {},
   "outputs": [],
   "source": [
    "independentDataRawPivotedFlattened = independentDataRawPivoted.reset_index(level=[0,1])"
   ]
  },
  {
   "cell_type": "code",
   "execution_count": 18,
   "metadata": {},
   "outputs": [],
   "source": [
    "independentDataRawPivotedFlattened.columns.to_flat_index()\n",
    "independentData = pd.DataFrame(independentDataRawPivotedFlattened.to_records())"
   ]
  },
  {
   "cell_type": "code",
   "execution_count": 19,
   "metadata": {},
   "outputs": [],
   "source": [
    "independentData\n",
    "dataSetForModelling =  pd.merge(left=dependentData,right=independentData)"
   ]
  },
  {
   "cell_type": "code",
   "execution_count": 20,
   "metadata": {},
   "outputs": [],
   "source": [
    "dataSetForModelling.to_csv('datasetForFeatureSelection.csv')"
   ]
  },
  {
   "cell_type": "code",
   "execution_count": 21,
   "metadata": {},
   "outputs": [],
   "source": [
    "cleanedDataSetForModelling = dataSetForModelling.drop(['IndicatorCode', 'counts'], axis=1)"
   ]
  },
  {
   "cell_type": "code",
   "execution_count": 22,
   "metadata": {},
   "outputs": [
    {
     "data": {
      "text/html": [
       "<div>\n",
       "<style scoped>\n",
       "    .dataframe tbody tr th:only-of-type {\n",
       "        vertical-align: middle;\n",
       "    }\n",
       "\n",
       "    .dataframe tbody tr th {\n",
       "        vertical-align: top;\n",
       "    }\n",
       "\n",
       "    .dataframe thead th {\n",
       "        text-align: right;\n",
       "    }\n",
       "</style>\n",
       "<table border=\"1\" class=\"dataframe\">\n",
       "  <thead>\n",
       "    <tr style=\"text-align: right;\">\n",
       "      <th></th>\n",
       "      <th>CountryName</th>\n",
       "      <th>CountryCode</th>\n",
       "      <th>IndicatorName</th>\n",
       "      <th>Year</th>\n",
       "      <th>Value</th>\n",
       "      <th>Life expectancy at birth, female (years)</th>\n",
       "      <th>Life expectancy at birth, male (years)</th>\n",
       "      <th>Life expectancy at birth, total (years)</th>\n",
       "    </tr>\n",
       "  </thead>\n",
       "  <tbody>\n",
       "    <tr>\n",
       "      <th>0</th>\n",
       "      <td>Arab World</td>\n",
       "      <td>ARB</td>\n",
       "      <td>Adolescent fertility rate (births per 1,000 wo...</td>\n",
       "      <td>1960</td>\n",
       "      <td>133.560907</td>\n",
       "      <td>47.883246</td>\n",
       "      <td>45.862949</td>\n",
       "      <td>46.847059</td>\n",
       "    </tr>\n",
       "    <tr>\n",
       "      <th>1</th>\n",
       "      <td>Arab World</td>\n",
       "      <td>ARB</td>\n",
       "      <td>Age dependency ratio (% of working-age populat...</td>\n",
       "      <td>1960</td>\n",
       "      <td>87.797601</td>\n",
       "      <td>47.883246</td>\n",
       "      <td>45.862949</td>\n",
       "      <td>46.847059</td>\n",
       "    </tr>\n",
       "    <tr>\n",
       "      <th>2</th>\n",
       "      <td>Arab World</td>\n",
       "      <td>ARB</td>\n",
       "      <td>Age dependency ratio, old (% of working-age po...</td>\n",
       "      <td>1960</td>\n",
       "      <td>6.634579</td>\n",
       "      <td>47.883246</td>\n",
       "      <td>45.862949</td>\n",
       "      <td>46.847059</td>\n",
       "    </tr>\n",
       "    <tr>\n",
       "      <th>3</th>\n",
       "      <td>Arab World</td>\n",
       "      <td>ARB</td>\n",
       "      <td>Age dependency ratio, young (% of working-age ...</td>\n",
       "      <td>1960</td>\n",
       "      <td>81.023330</td>\n",
       "      <td>47.883246</td>\n",
       "      <td>45.862949</td>\n",
       "      <td>46.847059</td>\n",
       "    </tr>\n",
       "    <tr>\n",
       "      <th>4</th>\n",
       "      <td>Arab World</td>\n",
       "      <td>ARB</td>\n",
       "      <td>Birth rate, crude (per 1,000 people)</td>\n",
       "      <td>1960</td>\n",
       "      <td>47.697888</td>\n",
       "      <td>47.883246</td>\n",
       "      <td>45.862949</td>\n",
       "      <td>46.847059</td>\n",
       "    </tr>\n",
       "    <tr>\n",
       "      <th>...</th>\n",
       "      <td>...</td>\n",
       "      <td>...</td>\n",
       "      <td>...</td>\n",
       "      <td>...</td>\n",
       "      <td>...</td>\n",
       "      <td>...</td>\n",
       "      <td>...</td>\n",
       "      <td>...</td>\n",
       "    </tr>\n",
       "    <tr>\n",
       "      <th>664250</th>\n",
       "      <td>San Marino</td>\n",
       "      <td>SMR</td>\n",
       "      <td>Arable land (% of land area)</td>\n",
       "      <td>2003</td>\n",
       "      <td>16.666667</td>\n",
       "      <td>84.600000</td>\n",
       "      <td>78.000000</td>\n",
       "      <td>81.219512</td>\n",
       "    </tr>\n",
       "    <tr>\n",
       "      <th>664251</th>\n",
       "      <td>San Marino</td>\n",
       "      <td>SMR</td>\n",
       "      <td>Arable land (hectares per person)</td>\n",
       "      <td>2003</td>\n",
       "      <td>0.035063</td>\n",
       "      <td>84.600000</td>\n",
       "      <td>78.000000</td>\n",
       "      <td>81.219512</td>\n",
       "    </tr>\n",
       "    <tr>\n",
       "      <th>664252</th>\n",
       "      <td>San Marino</td>\n",
       "      <td>SMR</td>\n",
       "      <td>Land area (sq. km)</td>\n",
       "      <td>2003</td>\n",
       "      <td>60.000000</td>\n",
       "      <td>84.600000</td>\n",
       "      <td>78.000000</td>\n",
       "      <td>81.219512</td>\n",
       "    </tr>\n",
       "    <tr>\n",
       "      <th>664253</th>\n",
       "      <td>San Marino</td>\n",
       "      <td>SMR</td>\n",
       "      <td>Population density (people per sq. km of land ...</td>\n",
       "      <td>2003</td>\n",
       "      <td>475.333333</td>\n",
       "      <td>84.600000</td>\n",
       "      <td>78.000000</td>\n",
       "      <td>81.219512</td>\n",
       "    </tr>\n",
       "    <tr>\n",
       "      <th>664254</th>\n",
       "      <td>San Marino</td>\n",
       "      <td>SMR</td>\n",
       "      <td>Surface area (sq. km)</td>\n",
       "      <td>2003</td>\n",
       "      <td>60.000000</td>\n",
       "      <td>84.600000</td>\n",
       "      <td>78.000000</td>\n",
       "      <td>81.219512</td>\n",
       "    </tr>\n",
       "  </tbody>\n",
       "</table>\n",
       "<p>664255 rows × 8 columns</p>\n",
       "</div>"
      ],
      "text/plain": [
       "       CountryName CountryCode  \\\n",
       "0       Arab World         ARB   \n",
       "1       Arab World         ARB   \n",
       "2       Arab World         ARB   \n",
       "3       Arab World         ARB   \n",
       "4       Arab World         ARB   \n",
       "...            ...         ...   \n",
       "664250  San Marino         SMR   \n",
       "664251  San Marino         SMR   \n",
       "664252  San Marino         SMR   \n",
       "664253  San Marino         SMR   \n",
       "664254  San Marino         SMR   \n",
       "\n",
       "                                            IndicatorName  Year       Value  \\\n",
       "0       Adolescent fertility rate (births per 1,000 wo...  1960  133.560907   \n",
       "1       Age dependency ratio (% of working-age populat...  1960   87.797601   \n",
       "2       Age dependency ratio, old (% of working-age po...  1960    6.634579   \n",
       "3       Age dependency ratio, young (% of working-age ...  1960   81.023330   \n",
       "4                    Birth rate, crude (per 1,000 people)  1960   47.697888   \n",
       "...                                                   ...   ...         ...   \n",
       "664250                       Arable land (% of land area)  2003   16.666667   \n",
       "664251                  Arable land (hectares per person)  2003    0.035063   \n",
       "664252                                 Land area (sq. km)  2003   60.000000   \n",
       "664253  Population density (people per sq. km of land ...  2003  475.333333   \n",
       "664254                              Surface area (sq. km)  2003   60.000000   \n",
       "\n",
       "        Life expectancy at birth, female (years)  \\\n",
       "0                                      47.883246   \n",
       "1                                      47.883246   \n",
       "2                                      47.883246   \n",
       "3                                      47.883246   \n",
       "4                                      47.883246   \n",
       "...                                          ...   \n",
       "664250                                 84.600000   \n",
       "664251                                 84.600000   \n",
       "664252                                 84.600000   \n",
       "664253                                 84.600000   \n",
       "664254                                 84.600000   \n",
       "\n",
       "        Life expectancy at birth, male (years)  \\\n",
       "0                                    45.862949   \n",
       "1                                    45.862949   \n",
       "2                                    45.862949   \n",
       "3                                    45.862949   \n",
       "4                                    45.862949   \n",
       "...                                        ...   \n",
       "664250                               78.000000   \n",
       "664251                               78.000000   \n",
       "664252                               78.000000   \n",
       "664253                               78.000000   \n",
       "664254                               78.000000   \n",
       "\n",
       "        Life expectancy at birth, total (years)  \n",
       "0                                     46.847059  \n",
       "1                                     46.847059  \n",
       "2                                     46.847059  \n",
       "3                                     46.847059  \n",
       "4                                     46.847059  \n",
       "...                                         ...  \n",
       "664250                                81.219512  \n",
       "664251                                81.219512  \n",
       "664252                                81.219512  \n",
       "664253                                81.219512  \n",
       "664254                                81.219512  \n",
       "\n",
       "[664255 rows x 8 columns]"
      ]
     },
     "execution_count": 22,
     "metadata": {},
     "output_type": "execute_result"
    }
   ],
   "source": [
    "cleanedDataSetForModelling"
   ]
  },
  {
   "cell_type": "code",
   "execution_count": 23,
   "metadata": {},
   "outputs": [],
   "source": [
    "finalDataSetForModelling = cleanedDataSetForModelling.pivot(index=['CountryName','Year','Life expectancy at birth, total (years)'], columns='IndicatorName', values='Value')"
   ]
  },
  {
   "cell_type": "code",
   "execution_count": 24,
   "metadata": {},
   "outputs": [],
   "source": [
    "finalDataSetForModelling = finalDataSetForModelling.reset_index().dropna()"
   ]
  },
  {
   "cell_type": "code",
   "execution_count": 25,
   "metadata": {},
   "outputs": [],
   "source": [
    "finalDataSetForModelling = finalDataSetForModelling.reset_index().drop(['index'], axis=1)"
   ]
  },
  {
   "cell_type": "markdown",
   "metadata": {},
   "source": [
    "# finalDataSetForModelling.csv is the feature set of 60 features, each having at least 10000 observations\n",
    "This is used for further feature selection to get it down to 10 "
   ]
  },
  {
   "cell_type": "code",
   "execution_count": 26,
   "metadata": {},
   "outputs": [],
   "source": [
    "finalDataSetForModelling.to_csv(\"finalDataSetForModelling.csv\", index=False)"
   ]
  }
 ],
 "metadata": {
  "kernelspec": {
   "display_name": "Python 3",
   "language": "python",
   "name": "python3"
  },
  "language_info": {
   "codemirror_mode": {
    "name": "ipython",
    "version": 3
   },
   "file_extension": ".py",
   "mimetype": "text/x-python",
   "name": "python",
   "nbconvert_exporter": "python",
   "pygments_lexer": "ipython3",
   "version": "3.7.6"
  }
 },
 "nbformat": 4,
 "nbformat_minor": 4
}
