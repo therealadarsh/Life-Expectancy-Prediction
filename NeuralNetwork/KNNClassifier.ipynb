{
 "cells": [
  {
   "cell_type": "code",
   "execution_count": 10,
   "id": "9029df91",
   "metadata": {},
   "outputs": [],
   "source": [
    "import numpy as np\n",
    "import pandas as pd\n",
    "import matplotlib.pyplot as plt\n",
    "from sklearn.model_selection import train_test_split\n",
    "from sklearn.neighbors import KNeighborsClassifier\n",
    "from sklearn.metrics import roc_curve, auc\n",
    "\n",
    "from sklearn.metrics import confusion_matrix"
   ]
  },
  {
   "cell_type": "code",
   "execution_count": 11,
   "id": "9a2ddc84",
   "metadata": {},
   "outputs": [
    {
     "data": {
      "text/html": [
       "<div>\n",
       "<style scoped>\n",
       "    .dataframe tbody tr th:only-of-type {\n",
       "        vertical-align: middle;\n",
       "    }\n",
       "\n",
       "    .dataframe tbody tr th {\n",
       "        vertical-align: top;\n",
       "    }\n",
       "\n",
       "    .dataframe thead th {\n",
       "        text-align: right;\n",
       "    }\n",
       "</style>\n",
       "<table border=\"1\" class=\"dataframe\">\n",
       "  <thead>\n",
       "    <tr style=\"text-align: right;\">\n",
       "      <th></th>\n",
       "      <th>Adolescent fertility rate (births per 1,000 women ages 15-19)</th>\n",
       "      <th>Arable land (% of land area)</th>\n",
       "      <th>Arable land (hectares per person)</th>\n",
       "      <th>Birth rate, crude (per 1,000 people)</th>\n",
       "      <th>CO2 emissions from solid fuel consumption (% of total)</th>\n",
       "      <th>Crop production index (2004-2006 = 100)</th>\n",
       "      <th>Livestock production index (2004-2006 = 100)</th>\n",
       "      <th>Permanent cropland (% of land area)</th>\n",
       "      <th>Population, female (% of total)</th>\n",
       "      <th>Rural population (% of total population)</th>\n",
       "      <th>Life expectancy at birth, total (years)</th>\n",
       "      <th>Year</th>\n",
       "      <th>CountryName</th>\n",
       "      <th>MeanLifeExpetancyOverall</th>\n",
       "      <th>MeanLifeExpetancyForYear</th>\n",
       "      <th>AboveAverageLifeExpectancyOverall</th>\n",
       "      <th>AboveAverageLifeExpectancyByYear</th>\n",
       "    </tr>\n",
       "  </thead>\n",
       "  <tbody>\n",
       "    <tr>\n",
       "      <th>0</th>\n",
       "      <td>145.3210</td>\n",
       "      <td>11.947431</td>\n",
       "      <td>0.801756</td>\n",
       "      <td>51.614</td>\n",
       "      <td>35.807860</td>\n",
       "      <td>73.15</td>\n",
       "      <td>48.66</td>\n",
       "      <td>0.111816</td>\n",
       "      <td>48.634625</td>\n",
       "      <td>90.574</td>\n",
       "      <td>34.092878</td>\n",
       "      <td>1964</td>\n",
       "      <td>Afghanistan</td>\n",
       "      <td>64.193563</td>\n",
       "      <td>55.937218</td>\n",
       "      <td>False</td>\n",
       "      <td>False</td>\n",
       "    </tr>\n",
       "    <tr>\n",
       "      <th>1</th>\n",
       "      <td>46.6478</td>\n",
       "      <td>4.605392</td>\n",
       "      <td>3.168264</td>\n",
       "      <td>20.500</td>\n",
       "      <td>61.654161</td>\n",
       "      <td>34.23</td>\n",
       "      <td>61.43</td>\n",
       "      <td>0.021999</td>\n",
       "      <td>49.604197</td>\n",
       "      <td>16.890</td>\n",
       "      <td>70.880976</td>\n",
       "      <td>1964</td>\n",
       "      <td>Australia</td>\n",
       "      <td>64.193563</td>\n",
       "      <td>55.937218</td>\n",
       "      <td>True</td>\n",
       "      <td>True</td>\n",
       "    </tr>\n",
       "    <tr>\n",
       "      <th>2</th>\n",
       "      <td>56.3066</td>\n",
       "      <td>20.065391</td>\n",
       "      <td>0.229381</td>\n",
       "      <td>18.500</td>\n",
       "      <td>48.662900</td>\n",
       "      <td>93.29</td>\n",
       "      <td>72.46</td>\n",
       "      <td>0.811334</td>\n",
       "      <td>53.270334</td>\n",
       "      <td>35.038</td>\n",
       "      <td>69.921951</td>\n",
       "      <td>1964</td>\n",
       "      <td>Austria</td>\n",
       "      <td>64.193563</td>\n",
       "      <td>55.937218</td>\n",
       "      <td>True</td>\n",
       "      <td>True</td>\n",
       "    </tr>\n",
       "    <tr>\n",
       "      <th>3</th>\n",
       "      <td>88.5072</td>\n",
       "      <td>8.691025</td>\n",
       "      <td>0.378911</td>\n",
       "      <td>45.799</td>\n",
       "      <td>0.000000</td>\n",
       "      <td>18.74</td>\n",
       "      <td>35.63</td>\n",
       "      <td>0.709471</td>\n",
       "      <td>52.189871</td>\n",
       "      <td>88.199</td>\n",
       "      <td>39.136854</td>\n",
       "      <td>1964</td>\n",
       "      <td>Benin</td>\n",
       "      <td>64.193563</td>\n",
       "      <td>55.937218</td>\n",
       "      <td>False</td>\n",
       "      <td>False</td>\n",
       "    </tr>\n",
       "    <tr>\n",
       "      <th>4</th>\n",
       "      <td>100.5586</td>\n",
       "      <td>1.237884</td>\n",
       "      <td>0.336018</td>\n",
       "      <td>43.539</td>\n",
       "      <td>0.247525</td>\n",
       "      <td>24.62</td>\n",
       "      <td>20.76</td>\n",
       "      <td>0.126465</td>\n",
       "      <td>50.360061</td>\n",
       "      <td>62.043</td>\n",
       "      <td>43.430220</td>\n",
       "      <td>1964</td>\n",
       "      <td>Bolivia</td>\n",
       "      <td>64.193563</td>\n",
       "      <td>55.937218</td>\n",
       "      <td>False</td>\n",
       "      <td>False</td>\n",
       "    </tr>\n",
       "  </tbody>\n",
       "</table>\n",
       "</div>"
      ],
      "text/plain": [
       "   Adolescent fertility rate (births per 1,000 women ages 15-19)  \\\n",
       "0                                           145.3210               \n",
       "1                                            46.6478               \n",
       "2                                            56.3066               \n",
       "3                                            88.5072               \n",
       "4                                           100.5586               \n",
       "\n",
       "   Arable land (% of land area)  Arable land (hectares per person)  \\\n",
       "0                     11.947431                           0.801756   \n",
       "1                      4.605392                           3.168264   \n",
       "2                     20.065391                           0.229381   \n",
       "3                      8.691025                           0.378911   \n",
       "4                      1.237884                           0.336018   \n",
       "\n",
       "   Birth rate, crude (per 1,000 people)  \\\n",
       "0                                51.614   \n",
       "1                                20.500   \n",
       "2                                18.500   \n",
       "3                                45.799   \n",
       "4                                43.539   \n",
       "\n",
       "   CO2 emissions from solid fuel consumption (% of total)  \\\n",
       "0                                          35.807860        \n",
       "1                                          61.654161        \n",
       "2                                          48.662900        \n",
       "3                                           0.000000        \n",
       "4                                           0.247525        \n",
       "\n",
       "   Crop production index (2004-2006 = 100)  \\\n",
       "0                                    73.15   \n",
       "1                                    34.23   \n",
       "2                                    93.29   \n",
       "3                                    18.74   \n",
       "4                                    24.62   \n",
       "\n",
       "   Livestock production index (2004-2006 = 100)  \\\n",
       "0                                         48.66   \n",
       "1                                         61.43   \n",
       "2                                         72.46   \n",
       "3                                         35.63   \n",
       "4                                         20.76   \n",
       "\n",
       "   Permanent cropland (% of land area)  Population, female (% of total)  \\\n",
       "0                             0.111816                        48.634625   \n",
       "1                             0.021999                        49.604197   \n",
       "2                             0.811334                        53.270334   \n",
       "3                             0.709471                        52.189871   \n",
       "4                             0.126465                        50.360061   \n",
       "\n",
       "   Rural population (% of total population)  \\\n",
       "0                                    90.574   \n",
       "1                                    16.890   \n",
       "2                                    35.038   \n",
       "3                                    88.199   \n",
       "4                                    62.043   \n",
       "\n",
       "   Life expectancy at birth, total (years)  Year  CountryName  \\\n",
       "0                                34.092878  1964  Afghanistan   \n",
       "1                                70.880976  1964    Australia   \n",
       "2                                69.921951  1964      Austria   \n",
       "3                                39.136854  1964        Benin   \n",
       "4                                43.430220  1964      Bolivia   \n",
       "\n",
       "   MeanLifeExpetancyOverall  MeanLifeExpetancyForYear  \\\n",
       "0                 64.193563                 55.937218   \n",
       "1                 64.193563                 55.937218   \n",
       "2                 64.193563                 55.937218   \n",
       "3                 64.193563                 55.937218   \n",
       "4                 64.193563                 55.937218   \n",
       "\n",
       "   AboveAverageLifeExpectancyOverall  AboveAverageLifeExpectancyByYear  \n",
       "0                              False                             False  \n",
       "1                               True                              True  \n",
       "2                               True                              True  \n",
       "3                              False                             False  \n",
       "4                              False                             False  "
      ]
     },
     "execution_count": 11,
     "metadata": {},
     "output_type": "execute_result"
    }
   ],
   "source": [
    "# Load dataset\n",
    "dataset = pd.read_csv('../featureSelectedDataset.csv')  \n",
    "dataset.head()"
   ]
  },
  {
   "cell_type": "code",
   "execution_count": 12,
   "id": "2d54cd85",
   "metadata": {},
   "outputs": [],
   "source": [
    "# Split the dataset into features and obs\n",
    "\n",
    "X = dataset.iloc[:,0:10]\n",
    "y = dataset[\"AboveAverageLifeExpectancyByYear\"]\n",
    "\n",
    "X_train, X_test, y_train, y_test = train_test_split(X, y, test_size=0.33, random_state=42)"
   ]
  },
  {
   "cell_type": "code",
   "execution_count": 13,
   "id": "16f56460",
   "metadata": {},
   "outputs": [
    {
     "data": {
      "text/plain": [
       "KNeighborsClassifier(n_neighbors=3)"
      ]
     },
     "execution_count": 13,
     "metadata": {},
     "output_type": "execute_result"
    }
   ],
   "source": [
    "kclf = KNeighborsClassifier(n_neighbors = 3)\n",
    "kclf.fit(X_train, y_train)"
   ]
  },
  {
   "cell_type": "code",
   "execution_count": 14,
   "id": "b0e7f913",
   "metadata": {},
   "outputs": [],
   "source": [
    "y_pred = kclf.predict(X_test)"
   ]
  },
  {
   "cell_type": "code",
   "execution_count": 15,
   "id": "512d45a2",
   "metadata": {},
   "outputs": [],
   "source": [
    "# User defined function for accuracy\n",
    "def accuracy(confusion_matrix):\n",
    "   diagonal_sum = confusion_matrix.trace()\n",
    "   sum_of_all_elements = confusion_matrix.sum()\n",
    "   return diagonal_sum / sum_of_all_elements"
   ]
  },
  {
   "cell_type": "code",
   "execution_count": 16,
   "id": "45cc9668",
   "metadata": {},
   "outputs": [
    {
     "name": "stdout",
     "output_type": "stream",
     "text": [
      "Accuracy of MLPClassifier :  0.9753146176185866\n"
     ]
    }
   ],
   "source": [
    "cm = confusion_matrix(y_pred, y_test)\n",
    "print('Accuracy of MLPClassifier : ', accuracy(cm))"
   ]
  },
  {
   "cell_type": "code",
   "execution_count": 17,
   "id": "a1a7a960",
   "metadata": {},
   "outputs": [
    {
     "name": "stdout",
     "output_type": "stream",
     "text": [
      "Accuracy training : 0.992\n",
      "Accuracy testing : 0.975\n"
     ]
    }
   ],
   "source": [
    "print('Accuracy training : {:.3f}'.format(kclf.score(X_train, y_train)))\n",
    "print('Accuracy testing : {:.3f}'.format(kclf.score(X_test, y_test)))"
   ]
  },
  {
   "cell_type": "code",
   "execution_count": 18,
   "id": "3c32444e",
   "metadata": {},
   "outputs": [
    {
     "data": {
      "image/png": "[encoded data removed]",
      "text/plain": [
       "<Figure size 432x288 with 1 Axes>"
      ]
     },
     "metadata": {
      "needs_background": "light"
     },
     "output_type": "display_data"
    }
   ],
   "source": [
    "# Generate ROC plot\n",
    "fpr2, tpr2, threshold = roc_curve(y_test, kclf.predict_proba(X_test)[:,1])\n",
    "roc_auc2 = auc(fpr2, tpr2)\n",
    "\n",
    "# https://scikit-learn.org/stable/auto_examples/model_selection/plot_roc.html\n",
    "plt.figure()\n",
    "lw = 2\n",
    "plt.plot(fpr2, tpr2, color='darkorange',\n",
    "         lw=lw, label='ROC curve (area = %0.2f)' % roc_auc2)\n",
    "plt.plot([0, 1], [0, 1], color='navy', lw=lw, linestyle='--')\n",
    "plt.xlim([0.0, 1.0])\n",
    "plt.ylim([0.0, 1.05])\n",
    "plt.xlabel('False Positive Rate')\n",
    "plt.ylabel('True Positive Rate')\n",
    "plt.title('Receiver operating characteristic example')\n",
    "plt.legend(loc=\"lower right\")\n",
    "plt.savefig('KNNClassfierROC.jpg', dpi=300)\n",
    "plt.show()"
   ]
  },
  {
   "cell_type": "code",
   "execution_count": null,
   "id": "b55cc87e",
   "metadata": {},
   "outputs": [],
   "source": []
  }
 ],
 "metadata": {
  "kernelspec": {
   "display_name": "Python 3",
   "language": "python",
   "name": "python3"
  },
  "language_info": {
   "codemirror_mode": {
    "name": "ipython",
    "version": 3
   },
   "file_extension": ".py",
   "mimetype": "text/x-python",
   "name": "python",
   "nbconvert_exporter": "python",
   "pygments_lexer": "ipython3",
   "version": "3.8.8"
  }
 },
 "nbformat": 4,
 "nbformat_minor": 5
}
