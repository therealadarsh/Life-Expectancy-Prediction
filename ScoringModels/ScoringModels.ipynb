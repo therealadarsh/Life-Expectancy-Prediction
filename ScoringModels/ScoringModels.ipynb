{
 "cells": [
  {
   "cell_type": "markdown",
   "metadata": {},
   "source": [
    "## Cross validation scores"
   ]
  },
  {
   "cell_type": "code",
   "execution_count": 12,
   "metadata": {},
   "outputs": [],
   "source": [
    "from sklearn.model_selection import train_test_split\n",
    "from sklearn.model_selection import KFold\n",
    "from sklearn.model_selection import cross_val_score\n",
    "from sklearn.linear_model import LinearRegression\n",
    "from numpy import mean\n",
    "from numpy import absolute\n",
    "from numpy import sqrt\n",
    "import numpy as np\n",
    "import pandas as pd\n",
    "\n",
    "from sklearn.metrics import roc_curve, auc\n",
    "from sklearn.metrics import confusion_matrix\n",
    "\n",
    "# Regressors\n",
    "from sklearn.neural_network import MLPRegressor\n",
    "from sklearn.neighbors import KNeighborsRegressor\n",
    "from sklearn.linear_model import LogisticRegression\n",
    "from sklearn.ensemble import RandomForestRegressor\n",
    "\n",
    "# Classifiers\n",
    "from sklearn.neural_network import MLPClassifier\n",
    "from sklearn.neighbors import KNeighborsClassifier\n",
    "from sklearn.linear_model import LogisticRegression\n",
    "from sklearn.ensemble import RandomForestClassifier\n",
    "\n",
    "seed =1"
   ]
  },
  {
   "cell_type": "code",
   "execution_count": 2,
   "metadata": {},
   "outputs": [
    {
     "data": {
      "text/plain": [
       "['Adolescent fertility rate (births per 1,000 women ages 15-19)',\n",
       " 'Arable land (% of land area)',\n",
       " 'Arable land (hectares per person)',\n",
       " 'CO2 emissions from solid fuel consumption (kt)',\n",
       " 'GDP per capita (current US$)',\n",
       " 'Merchandise exports by the reporting economy, residual (% of total merchandise exports)',\n",
       " 'Merchandise trade (% of GDP)',\n",
       " 'Permanent cropland (% of land area)',\n",
       " 'Population density (people per sq. km of land area)',\n",
       " 'Urban population (% of total)']"
      ]
     },
     "execution_count": 2,
     "metadata": {},
     "output_type": "execute_result"
    }
   ],
   "source": [
    "df = pd.read_csv('../LassoRegression/LassoForwardSelectionDataSetForModelling.csv')\n",
    "#lassoFeatures = pd.read_csv('top10predictorsLasso_cv.csv')['0'].tolist()\n",
    "forwardSelectionFeatures = pd.read_csv('../LassoRegression/ForwardSelectionVia5FoldCV.csv')[\"0\"].tolist()\n",
    "\n",
    "y_qualitative = df['AboveAverageLifeExpectancyByYear']\n",
    "y_quantitative = df['Life expectancy at birth, total (years)']\n",
    "#xLasso = df[np.intersect1d(df.columns, lassoFeatures)]\n",
    "x = df[np.intersect1d(df.columns, forwardSelectionFeatures)]\n",
    "\n",
    "forwardSelectionFeatures"
   ]
  },
  {
   "cell_type": "code",
   "execution_count": 3,
   "metadata": {},
   "outputs": [],
   "source": [
    "allScores = pd.DataFrame(columns=['Type','Model', 'Score'])"
   ]
  },
  {
   "cell_type": "markdown",
   "metadata": {},
   "source": [
    "### Classifier Models"
   ]
  },
  {
   "cell_type": "code",
   "execution_count": 4,
   "metadata": {},
   "outputs": [
    {
     "name": "stdout",
     "output_type": "stream",
     "text": [
      "[0.73482428 0.7971246  0.89776358 0.87539936 0.81469649 0.84345048\n",
      " 0.87220447 0.90734824 0.8514377  0.8544    ]\n",
      "cv_scores mean:0.8448649201277956\n"
     ]
    }
   ],
   "source": [
    "# KNN\n",
    "knn = KNeighborsClassifier(n_neighbors=5)\n",
    "cv_scores = cross_val_score(knn, x.values, y_qualitative, cv=10)\n",
    "print(cv_scores)\n",
    "print('cv_scores mean:{}'.format(np.mean(cv_scores)))\n",
    "allScores.loc[allScores.shape[0]-1] = ['Classifier', 'KNN n = 5', np.mean(cv_scores)]"
   ]
  },
  {
   "cell_type": "code",
   "execution_count": 5,
   "metadata": {},
   "outputs": [
    {
     "name": "stdout",
     "output_type": "stream",
     "text": [
      "[0.75399361 0.81309904 0.90734824 0.87060703 0.80191693 0.88658147\n",
      " 0.91693291 0.90734824 0.81789137 0.872     ]\n",
      "cv_scores mean:0.8547718849840255\n"
     ]
    }
   ],
   "source": [
    "# Logistic Regression\n",
    "model = LogisticRegression(random_state=0, max_iter=500)\n",
    "cv_scores = cross_val_score(model, x.values, y_qualitative, cv=10)\n",
    "print(cv_scores)\n",
    "print('cv_scores mean:{}'.format(np.mean(cv_scores)))\n",
    "allScores.loc[allScores.shape[0]-1] = ['Classifier', 'Logistic Regression', np.mean(cv_scores)]"
   ]
  },
  {
   "cell_type": "code",
   "execution_count": 6,
   "metadata": {},
   "outputs": [
    {
     "name": "stdout",
     "output_type": "stream",
     "text": [
      "[0.72523962 0.81789137 0.82108626 0.87060703 0.84824281 0.82747604\n",
      " 0.81948882 0.85942492 0.80511182 0.8       ]\n",
      "cv_scores mean:0.8194568690095847\n"
     ]
    }
   ],
   "source": [
    "# Multi Layer Perceptron Classifier\n",
    "model = MLPClassifier(solver='adam', activation='tanh', alpha=1e-2, hidden_layer_sizes=(5,2), random_state=1, max_iter=20000)\n",
    "cv_scores = cross_val_score(model, x.values, y_qualitative, cv=10)\n",
    "print(cv_scores)\n",
    "print('cv_scores mean:{}'.format(np.mean(cv_scores)))\n",
    "allScores.loc[allScores.shape[0]-1] = ['Classifier', 'Multi Layer Perceptron', np.mean(cv_scores)]"
   ]
  },
  {
   "cell_type": "code",
   "execution_count": 7,
   "metadata": {
    "scrolled": true
   },
   "outputs": [
    {
     "name": "stdout",
     "output_type": "stream",
     "text": [
      "[0.77476038 0.88178914 0.9456869  0.91693291 0.83226837 0.8913738\n",
      " 0.93610224 0.95047923 0.88658147 0.9152    ]\n",
      "cv_scores mean:0.8931174440894569\n"
     ]
    }
   ],
   "source": [
    "# Random Forest\n",
    "model = RandomForestClassifier(\n",
    "                      min_samples_leaf=50,\n",
    "                      n_estimators=150,\n",
    "                      bootstrap=True,\n",
    "                      oob_score=True,\n",
    "                      n_jobs=-1,\n",
    "                      random_state=seed,\n",
    "                      max_features='auto')\n",
    "cv_scores = cross_val_score(model, x.values, y_qualitative, cv=10)\n",
    "print(cv_scores)\n",
    "print('cv_scores mean:{}'.format(np.mean(cv_scores)))\n",
    "allScores.loc[allScores.shape[0]-1] = ['Classifier', 'Random Forest', np.mean(cv_scores)]"
   ]
  },
  {
   "cell_type": "markdown",
   "metadata": {},
   "source": [
    "## Regession models"
   ]
  },
  {
   "cell_type": "code",
   "execution_count": 8,
   "metadata": {},
   "outputs": [
    {
     "name": "stdout",
     "output_type": "stream",
     "text": [
      "[0.58777597 0.58482693 0.65293133 0.3130321  0.23677432 0.66932171\n",
      " 0.66872994 0.64248121 0.65118879 0.67855471]\n",
      "cv_scores mean:0.5685617010669904\n"
     ]
    }
   ],
   "source": [
    "# Multi Layer Perceptron Regression\n",
    "model = MLPRegressor(solver='adam', activation='logistic', alpha=1e-2, hidden_layer_sizes=(10,5), random_state=1, max_iter=20000)\n",
    "cv_scores = cross_val_score(model, x.values, y_quantitative, cv=10)\n",
    "print(cv_scores)\n",
    "print('cv_scores mean:{}'.format(np.mean(cv_scores)))\n",
    "allScores.loc[allScores.shape[0]-1] = ['Regression', 'Multi Layer Perceptron', np.mean(cv_scores)]"
   ]
  },
  {
   "cell_type": "code",
   "execution_count": 9,
   "metadata": {},
   "outputs": [
    {
     "name": "stdout",
     "output_type": "stream",
     "text": [
      "[0.68849794 0.62008223 0.77418559 0.69573144 0.69523304 0.81441262\n",
      " 0.79823056 0.81678857 0.76915823 0.82496906]\n",
      "cv_scores mean:0.7497289274990149\n"
     ]
    }
   ],
   "source": [
    "# KNN Regression\n",
    "model = KNeighborsRegressor(n_neighbors=12)\n",
    "cv_scores = cross_val_score(model, x.values, y_quantitative, cv=10)\n",
    "print(cv_scores)\n",
    "print('cv_scores mean:{}'.format(np.mean(cv_scores)))\n",
    "allScores.loc[allScores.shape[0]-1] = ['Regression', 'KNN n = 12', np.mean(cv_scores)]"
   ]
  },
  {
   "cell_type": "code",
   "execution_count": 10,
   "metadata": {},
   "outputs": [
    {
     "name": "stdout",
     "output_type": "stream",
     "text": [
      "[0.70224966 0.77573482 0.78491146 0.73478651 0.69077621 0.75721927\n",
      " 0.76366421 0.76961067 0.78292607 0.78225342]\n",
      "cv_scores mean:0.7544132294183508\n"
     ]
    }
   ],
   "source": [
    "# Multilinear Regression\n",
    "model = LinearRegression()\n",
    "cv_scores = cross_val_score(model, x.values, y_quantitative, cv=10)\n",
    "print(cv_scores)\n",
    "print('cv_scores mean:{}'.format(np.mean(cv_scores)))\n",
    "allScores.loc[allScores.shape[0]-1] = ['Regression', 'Multilinear', np.mean(cv_scores)]"
   ]
  },
  {
   "cell_type": "code",
   "execution_count": 13,
   "metadata": {},
   "outputs": [
    {
     "name": "stdout",
     "output_type": "stream",
     "text": [
      "[0.87124308 0.87881636 0.94458374 0.90889649 0.82297952 0.83530298\n",
      " 0.89597939 0.93031414 0.87354013 0.81780528]\n",
      "cv_scores mean:0.877946108534279\n"
     ]
    }
   ],
   "source": [
    "# Random Forest\n",
    "model = RandomForestRegressor(n_estimators = 1000, random_state = 42)\n",
    "cv_scores = cross_val_score(model, x.values, y_qualitative, cv=10)\n",
    "print(cv_scores)\n",
    "print('cv_scores mean:{}'.format(np.mean(cv_scores)))\n",
    "allScores.loc[allScores.shape[0]-1] = ['Regression', 'Random Forest', np.mean(cv_scores)]"
   ]
  },
  {
   "cell_type": "code",
   "execution_count": 14,
   "metadata": {},
   "outputs": [
    {
     "data": {
      "text/html": [
       "<div>\n",
       "<style scoped>\n",
       "    .dataframe tbody tr th:only-of-type {\n",
       "        vertical-align: middle;\n",
       "    }\n",
       "\n",
       "    .dataframe tbody tr th {\n",
       "        vertical-align: top;\n",
       "    }\n",
       "\n",
       "    .dataframe thead th {\n",
       "        text-align: right;\n",
       "    }\n",
       "</style>\n",
       "<table border=\"1\" class=\"dataframe\">\n",
       "  <thead>\n",
       "    <tr style=\"text-align: right;\">\n",
       "      <th></th>\n",
       "      <th>Type</th>\n",
       "      <th>Model</th>\n",
       "      <th>Score</th>\n",
       "    </tr>\n",
       "  </thead>\n",
       "  <tbody>\n",
       "    <tr>\n",
       "      <th>-1</th>\n",
       "      <td>Classifier</td>\n",
       "      <td>KNN n = 5</td>\n",
       "      <td>0.844865</td>\n",
       "    </tr>\n",
       "    <tr>\n",
       "      <th>0</th>\n",
       "      <td>Classifier</td>\n",
       "      <td>Logistic Regression</td>\n",
       "      <td>0.854772</td>\n",
       "    </tr>\n",
       "    <tr>\n",
       "      <th>1</th>\n",
       "      <td>Classifier</td>\n",
       "      <td>Multi Layer Perceptron</td>\n",
       "      <td>0.819457</td>\n",
       "    </tr>\n",
       "    <tr>\n",
       "      <th>2</th>\n",
       "      <td>Classifier</td>\n",
       "      <td>Random Forest</td>\n",
       "      <td>0.893117</td>\n",
       "    </tr>\n",
       "    <tr>\n",
       "      <th>3</th>\n",
       "      <td>Regression</td>\n",
       "      <td>Multi Layer Perceptron</td>\n",
       "      <td>0.568562</td>\n",
       "    </tr>\n",
       "    <tr>\n",
       "      <th>4</th>\n",
       "      <td>Regression</td>\n",
       "      <td>KNN n = 12</td>\n",
       "      <td>0.749729</td>\n",
       "    </tr>\n",
       "    <tr>\n",
       "      <th>5</th>\n",
       "      <td>Regression</td>\n",
       "      <td>Multilinear</td>\n",
       "      <td>0.754413</td>\n",
       "    </tr>\n",
       "    <tr>\n",
       "      <th>6</th>\n",
       "      <td>Regression</td>\n",
       "      <td>Random Forest</td>\n",
       "      <td>0.877946</td>\n",
       "    </tr>\n",
       "  </tbody>\n",
       "</table>\n",
       "</div>"
      ],
      "text/plain": [
       "          Type                   Model     Score\n",
       "-1  Classifier               KNN n = 5  0.844865\n",
       " 0  Classifier     Logistic Regression  0.854772\n",
       " 1  Classifier  Multi Layer Perceptron  0.819457\n",
       " 2  Classifier           Random Forest  0.893117\n",
       " 3  Regression  Multi Layer Perceptron  0.568562\n",
       " 4  Regression              KNN n = 12  0.749729\n",
       " 5  Regression             Multilinear  0.754413\n",
       " 6  Regression           Random Forest  0.877946"
      ]
     },
     "metadata": {},
     "output_type": "display_data"
    }
   ],
   "source": [
    "display(allScores)"
   ]
  },
  {
   "cell_type": "code",
   "execution_count": null,
   "metadata": {},
   "outputs": [],
   "source": [
    "allScores.to_csv(\"allScores.csv\",index=False )"
   ]
  }
 ],
 "metadata": {
  "kernelspec": {
   "display_name": "Python 3",
   "language": "python",
   "name": "python3"
  },
  "language_info": {
   "codemirror_mode": {
    "name": "ipython",
    "version": 3
   },
   "file_extension": ".py",
   "mimetype": "text/x-python",
   "name": "python",
   "nbconvert_exporter": "python",
   "pygments_lexer": "ipython3",
   "version": "3.7.6"
  }
 },
 "nbformat": 4,
 "nbformat_minor": 4
}
