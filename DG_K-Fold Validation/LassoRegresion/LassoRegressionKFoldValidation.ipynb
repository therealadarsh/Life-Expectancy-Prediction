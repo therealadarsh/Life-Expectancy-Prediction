{
 "cells": [
  {
   "cell_type": "markdown",
   "metadata": {},
   "source": [
    "### KNN Classifier \n",
    "\n",
    "DXG - 2021-10-10"
   ]
  },
  {
   "cell_type": "code",
   "execution_count": 8,
   "metadata": {},
   "outputs": [],
   "source": [
    "import numpy as np\n",
    "import pandas as pd\n",
    "import matplotlib.pyplot as plt\n",
    "from sklearn.linear_model import LassoCV\n",
    "from sklearn.linear_model import Lasso\n",
    "\n",
    "from sklearn.metrics import confusion_matrix"
   ]
  },
  {
   "cell_type": "code",
   "execution_count": 9,
   "metadata": {},
   "outputs": [],
   "source": [
    "# User defined function for accuracy\n",
    "def accuracy(confusion_matrix):\n",
    "   diagonal_sum = confusion_matrix.trace()\n",
    "   sum_of_all_elements = confusion_matrix.sum()\n",
    "   return diagonal_sum / sum_of_all_elements"
   ]
  },
  {
   "cell_type": "code",
   "execution_count": 10,
   "metadata": {},
   "outputs": [
    {
     "data": {
      "text/html": [
       "<div>\n",
       "<style scoped>\n",
       "    .dataframe tbody tr th:only-of-type {\n",
       "        vertical-align: middle;\n",
       "    }\n",
       "\n",
       "    .dataframe tbody tr th {\n",
       "        vertical-align: top;\n",
       "    }\n",
       "\n",
       "    .dataframe thead th {\n",
       "        text-align: right;\n",
       "    }\n",
       "</style>\n",
       "<table border=\"1\" class=\"dataframe\">\n",
       "  <thead>\n",
       "    <tr style=\"text-align: right;\">\n",
       "      <th></th>\n",
       "      <th>Adolescent fertility rate (births per 1,000 women ages 15-19)</th>\n",
       "      <th>Arable land (% of land area)</th>\n",
       "      <th>Arable land (hectares per person)</th>\n",
       "      <th>Birth rate, crude (per 1,000 people)</th>\n",
       "      <th>CO2 emissions from solid fuel consumption (% of total)</th>\n",
       "      <th>Crop production index (2004-2006 = 100)</th>\n",
       "      <th>Livestock production index (2004-2006 = 100)</th>\n",
       "      <th>Permanent cropland (% of land area)</th>\n",
       "      <th>Population, female (% of total)</th>\n",
       "      <th>Rural population (% of total population)</th>\n",
       "      <th>Life expectancy at birth, total (years)</th>\n",
       "      <th>Year</th>\n",
       "      <th>CountryName</th>\n",
       "      <th>MeanLifeExpetancyOverall</th>\n",
       "      <th>MeanLifeExpetancyForYear</th>\n",
       "      <th>AboveAverageLifeExpectancyOverall</th>\n",
       "      <th>AboveAverageLifeExpectancyByYear</th>\n",
       "    </tr>\n",
       "  </thead>\n",
       "  <tbody>\n",
       "    <tr>\n",
       "      <th>0</th>\n",
       "      <td>145.3210</td>\n",
       "      <td>11.947431</td>\n",
       "      <td>0.801756</td>\n",
       "      <td>51.614</td>\n",
       "      <td>35.807860</td>\n",
       "      <td>73.15</td>\n",
       "      <td>48.66</td>\n",
       "      <td>0.111816</td>\n",
       "      <td>48.634625</td>\n",
       "      <td>90.574</td>\n",
       "      <td>34.092878</td>\n",
       "      <td>1964</td>\n",
       "      <td>Afghanistan</td>\n",
       "      <td>64.193563</td>\n",
       "      <td>55.937218</td>\n",
       "      <td>False</td>\n",
       "      <td>False</td>\n",
       "    </tr>\n",
       "    <tr>\n",
       "      <th>1</th>\n",
       "      <td>46.6478</td>\n",
       "      <td>4.605392</td>\n",
       "      <td>3.168264</td>\n",
       "      <td>20.500</td>\n",
       "      <td>61.654161</td>\n",
       "      <td>34.23</td>\n",
       "      <td>61.43</td>\n",
       "      <td>0.021999</td>\n",
       "      <td>49.604197</td>\n",
       "      <td>16.890</td>\n",
       "      <td>70.880976</td>\n",
       "      <td>1964</td>\n",
       "      <td>Australia</td>\n",
       "      <td>64.193563</td>\n",
       "      <td>55.937218</td>\n",
       "      <td>True</td>\n",
       "      <td>True</td>\n",
       "    </tr>\n",
       "    <tr>\n",
       "      <th>2</th>\n",
       "      <td>56.3066</td>\n",
       "      <td>20.065391</td>\n",
       "      <td>0.229381</td>\n",
       "      <td>18.500</td>\n",
       "      <td>48.662900</td>\n",
       "      <td>93.29</td>\n",
       "      <td>72.46</td>\n",
       "      <td>0.811334</td>\n",
       "      <td>53.270334</td>\n",
       "      <td>35.038</td>\n",
       "      <td>69.921951</td>\n",
       "      <td>1964</td>\n",
       "      <td>Austria</td>\n",
       "      <td>64.193563</td>\n",
       "      <td>55.937218</td>\n",
       "      <td>True</td>\n",
       "      <td>True</td>\n",
       "    </tr>\n",
       "    <tr>\n",
       "      <th>3</th>\n",
       "      <td>88.5072</td>\n",
       "      <td>8.691025</td>\n",
       "      <td>0.378911</td>\n",
       "      <td>45.799</td>\n",
       "      <td>0.000000</td>\n",
       "      <td>18.74</td>\n",
       "      <td>35.63</td>\n",
       "      <td>0.709471</td>\n",
       "      <td>52.189871</td>\n",
       "      <td>88.199</td>\n",
       "      <td>39.136854</td>\n",
       "      <td>1964</td>\n",
       "      <td>Benin</td>\n",
       "      <td>64.193563</td>\n",
       "      <td>55.937218</td>\n",
       "      <td>False</td>\n",
       "      <td>False</td>\n",
       "    </tr>\n",
       "    <tr>\n",
       "      <th>4</th>\n",
       "      <td>100.5586</td>\n",
       "      <td>1.237884</td>\n",
       "      <td>0.336018</td>\n",
       "      <td>43.539</td>\n",
       "      <td>0.247525</td>\n",
       "      <td>24.62</td>\n",
       "      <td>20.76</td>\n",
       "      <td>0.126465</td>\n",
       "      <td>50.360061</td>\n",
       "      <td>62.043</td>\n",
       "      <td>43.430220</td>\n",
       "      <td>1964</td>\n",
       "      <td>Bolivia</td>\n",
       "      <td>64.193563</td>\n",
       "      <td>55.937218</td>\n",
       "      <td>False</td>\n",
       "      <td>False</td>\n",
       "    </tr>\n",
       "  </tbody>\n",
       "</table>\n",
       "</div>"
      ],
      "text/plain": [
       "   Adolescent fertility rate (births per 1,000 women ages 15-19)  \\\n",
       "0                                           145.3210               \n",
       "1                                            46.6478               \n",
       "2                                            56.3066               \n",
       "3                                            88.5072               \n",
       "4                                           100.5586               \n",
       "\n",
       "   Arable land (% of land area)  Arable land (hectares per person)  \\\n",
       "0                     11.947431                           0.801756   \n",
       "1                      4.605392                           3.168264   \n",
       "2                     20.065391                           0.229381   \n",
       "3                      8.691025                           0.378911   \n",
       "4                      1.237884                           0.336018   \n",
       "\n",
       "   Birth rate, crude (per 1,000 people)  \\\n",
       "0                                51.614   \n",
       "1                                20.500   \n",
       "2                                18.500   \n",
       "3                                45.799   \n",
       "4                                43.539   \n",
       "\n",
       "   CO2 emissions from solid fuel consumption (% of total)  \\\n",
       "0                                          35.807860        \n",
       "1                                          61.654161        \n",
       "2                                          48.662900        \n",
       "3                                           0.000000        \n",
       "4                                           0.247525        \n",
       "\n",
       "   Crop production index (2004-2006 = 100)  \\\n",
       "0                                    73.15   \n",
       "1                                    34.23   \n",
       "2                                    93.29   \n",
       "3                                    18.74   \n",
       "4                                    24.62   \n",
       "\n",
       "   Livestock production index (2004-2006 = 100)  \\\n",
       "0                                         48.66   \n",
       "1                                         61.43   \n",
       "2                                         72.46   \n",
       "3                                         35.63   \n",
       "4                                         20.76   \n",
       "\n",
       "   Permanent cropland (% of land area)  Population, female (% of total)  \\\n",
       "0                             0.111816                        48.634625   \n",
       "1                             0.021999                        49.604197   \n",
       "2                             0.811334                        53.270334   \n",
       "3                             0.709471                        52.189871   \n",
       "4                             0.126465                        50.360061   \n",
       "\n",
       "   Rural population (% of total population)  \\\n",
       "0                                    90.574   \n",
       "1                                    16.890   \n",
       "2                                    35.038   \n",
       "3                                    88.199   \n",
       "4                                    62.043   \n",
       "\n",
       "   Life expectancy at birth, total (years)  Year  CountryName  \\\n",
       "0                                34.092878  1964  Afghanistan   \n",
       "1                                70.880976  1964    Australia   \n",
       "2                                69.921951  1964      Austria   \n",
       "3                                39.136854  1964        Benin   \n",
       "4                                43.430220  1964      Bolivia   \n",
       "\n",
       "   MeanLifeExpetancyOverall  MeanLifeExpetancyForYear  \\\n",
       "0                 64.193563                 55.937218   \n",
       "1                 64.193563                 55.937218   \n",
       "2                 64.193563                 55.937218   \n",
       "3                 64.193563                 55.937218   \n",
       "4                 64.193563                 55.937218   \n",
       "\n",
       "   AboveAverageLifeExpectancyOverall  AboveAverageLifeExpectancyByYear  \n",
       "0                              False                             False  \n",
       "1                               True                              True  \n",
       "2                               True                              True  \n",
       "3                              False                             False  \n",
       "4                              False                             False  "
      ]
     },
     "execution_count": 10,
     "metadata": {},
     "output_type": "execute_result"
    }
   ],
   "source": [
    "# Load dataset\n",
    "dataset = pd.read_csv('../../featureSelectedDataset.csv')  \n",
    "dataset.shape\n",
    "dataset.head()"
   ]
  },
  {
   "cell_type": "code",
   "execution_count": 11,
   "metadata": {},
   "outputs": [],
   "source": [
    "# Split the dataset into features and obs\n",
    "X = dataset.iloc[:,0:10]\n",
    "y = dataset[\"Life expectancy at birth, total (years)\"]"
   ]
  },
  {
   "cell_type": "code",
   "execution_count": 14,
   "metadata": {},
   "outputs": [
    {
     "name": "stdout",
     "output_type": "stream",
     "text": [
      "[0.79545961 0.85643571 0.84178356 0.82207515 0.80953544 0.84293682\n",
      " 0.82687681 0.82726686 0.8442793  0.84948289]\n",
      "cv_scores mean:0.8316132145935292\n"
     ]
    }
   ],
   "source": [
    "# Perform cross validation \n",
    "from sklearn.model_selection import cross_val_score\n",
    "# Define the model\n",
    "model = Lasso(random_state=0, max_iter=10000)\n",
    "alphas = np.logspace(-4, -0.5, 30)\n",
    "tuned_parameters = [{'alpha': alphas}]\n",
    "n_folds = 10\n",
    "cv_scores = cross_val_score(model, X, y, cv=n_folds)\n",
    "print(cv_scores)\n",
    "print('cv_scores mean:{}'.format(np.mean(cv_scores)))"
   ]
  },
  {
   "cell_type": "code",
   "execution_count": 16,
   "metadata": {},
   "outputs": [
    {
     "data": {
      "text/plain": [
       "GridSearchCV(cv=10, error_score=nan,\n",
       "             estimator=Lasso(alpha=1.0, copy_X=True, fit_intercept=True,\n",
       "                             max_iter=10000, normalize=False, positive=False,\n",
       "                             precompute=False, random_state=0,\n",
       "                             selection='cyclic', tol=0.0001, warm_start=False),\n",
       "             iid='deprecated', n_jobs=None,\n",
       "             param_grid=[{'alpha': array([1.00000000e-04, 1.32035178e-04, 1.74332882e-04, 2.30180731e-04,\n",
       "       3.03919538e-04,...\n",
       "       2.80721620e-03, 3.70651291e-03, 4.89390092e-03, 6.46167079e-03,\n",
       "       8.53167852e-03, 1.12648169e-02, 1.48735211e-02, 1.96382800e-02,\n",
       "       2.59294380e-02, 3.42359796e-02, 4.52035366e-02, 5.96845700e-02,\n",
       "       7.88046282e-02, 1.04049831e-01, 1.37382380e-01, 1.81393069e-01,\n",
       "       2.39502662e-01, 3.16227766e-01])}],\n",
       "             pre_dispatch='2*n_jobs', refit=False, return_train_score=False,\n",
       "             scoring=None, verbose=0)"
      ]
     },
     "execution_count": 16,
     "metadata": {},
     "output_type": "execute_result"
    }
   ],
   "source": [
    "from sklearn.model_selection import GridSearchCV\n",
    "\n",
    "#use gridsearch to test alphas\n",
    "model_gscv = GridSearchCV(model, tuned_parameters, cv=n_folds, refit=False)\n",
    "#fit model to data\n",
    "model_gscv.fit(X, y)"
   ]
  },
  {
   "cell_type": "code",
   "execution_count": 17,
   "metadata": {},
   "outputs": [
    {
     "data": {
      "text/plain": [
       "{'alpha': 0.0001}"
      ]
     },
     "execution_count": 17,
     "metadata": {},
     "output_type": "execute_result"
    }
   ],
   "source": [
    "#check top performing n_neighbors value\n",
    "model_gscv.best_params_"
   ]
  },
  {
   "cell_type": "code",
   "execution_count": 18,
   "metadata": {},
   "outputs": [
    {
     "data": {
      "text/plain": [
       "0.8350495941357806"
      ]
     },
     "execution_count": 18,
     "metadata": {},
     "output_type": "execute_result"
    }
   ],
   "source": [
    "#check mean score for the top performing value of n_neighbors\n",
    "model_gscv.best_score_"
   ]
  },
  {
   "cell_type": "code",
   "execution_count": null,
   "metadata": {},
   "outputs": [],
   "source": []
  }
 ],
 "metadata": {
  "kernelspec": {
   "display_name": "Python 3",
   "language": "python",
   "name": "python3"
  },
  "language_info": {
   "codemirror_mode": {
    "name": "ipython",
    "version": 3
   },
   "file_extension": ".py",
   "mimetype": "text/x-python",
   "name": "python",
   "nbconvert_exporter": "python",
   "pygments_lexer": "ipython3",
   "version": "3.7.6"
  }
 },
 "nbformat": 4,
 "nbformat_minor": 4
}
